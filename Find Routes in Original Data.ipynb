{
 "cells": [
  {
   "cell_type": "code",
   "execution_count": 1,
   "metadata": {},
   "outputs": [],
   "source": [
    "import pandas as pd\n",
    "import os"
   ]
  },
  {
   "cell_type": "code",
   "execution_count": 2,
   "metadata": {},
   "outputs": [],
   "source": [
    "def load_csv_as_df(file_name, sub_directories, column_numbers=None, column_names=None):\n",
    "    '''\n",
    "    Load any csv as a pandas dataframe. Provide the filename, the subdirectories, and columns to read(if desired).\n",
    "    '''\n",
    "    base_path = os.getcwd()\n",
    "    full_path = base_path + sub_directories + file_name\n",
    "\n",
    "    if column_numbers is not None:\n",
    "        df = pd.read_csv(full_path, usecols=column_numbers)\n",
    "    else:\n",
    "        df = pd.read_csv(full_path)\n",
    "\n",
    "    if column_names is not None:\n",
    "        df.columns = column_names\n",
    "\n",
    "    return df"
   ]
  },
  {
   "cell_type": "code",
   "execution_count": 4,
   "metadata": {},
   "outputs": [],
   "source": [
    "def load_data(file_name, sub_directories, with_routes=False):\n",
    "    if not with_routes:\n",
    "        col_names = ['taxi_id', 'time', 'longitude', 'latitude',  'occupancy_status', 'speed']\n",
    "    else:\n",
    "        col_names += ['route_number', 'route_start', 'route_end']\n",
    "\n",
    "    df = load_csv_as_df(file_name, sub_directories, None, col_names)\n",
    "\n",
    "    return df"
   ]
  },
  {
   "cell_type": "code",
   "execution_count": 5,
   "metadata": {},
   "outputs": [],
   "source": [
    "df = load_data('TaxiData', '/')"
   ]
  },
  {
   "cell_type": "code",
   "execution_count": 6,
   "metadata": {},
   "outputs": [],
   "source": [
    "def filter_data_by_gps(df, with_pass=False):\n",
    "    # Airport in Shenzhen is 22.627078, 113.804928 and 22.606742, 113.827262.\n",
    "    # Train Station in Shenzhen is 22.605502, 114.023724 and 22.613580, 114.034568.\n",
    "\n",
    "    all_taxi_ids = df['taxi_id'].unique()\n",
    "    print('There are ', len(all_taxi_ids), ' taxi ids in this dataset!')\n",
    "\n",
    "    near_lat = df[(df['latitude'] >= 22.606742) & (df['latitude'] <= 22.627078)]\n",
    "    print('There are ', len(near_lat), ' GPS readings near the latitude of the airport')\n",
    "\n",
    "    near_airport = near_lat[(near_lat['longitude'] >= 113.804928) & (near_lat['longitude'] <= 113.827262)]\n",
    "\n",
    "    print('There are ', len(near_airport), ' GPS readings near the airport!')\n",
    "    taxi_ids = near_airport['taxi_id'].unique()\n",
    "    print('There are ', len(taxi_ids), ' taxi ids near the airport!')\n",
    "\n",
    "    if with_pass:\n",
    "        with_pass = near_airport[near_airport['occupancy_status'] == 1]\n",
    "        print('There are ', len(with_pass), ' GPS readings near the airport with a passenger!')\n",
    "        with_pass_ids = with_pass['taxi_id'].unique()\n",
    "        print('There are ', len(with_pass_ids), ' taxi ids near the airport with a passenger!')\n",
    "        return with_pass\n",
    "    else:\n",
    "        return near_airport"
   ]
  },
  {
   "cell_type": "code",
   "execution_count": 7,
   "metadata": {},
   "outputs": [
    {
     "name": "stdout",
     "output_type": "stream",
     "text": [
      "There are  14728  taxi ids in this dataset!\n",
      "There are  3939626  GPS readings near the latitude of the airport\n",
      "There are  561552  GPS readings near the airport!\n",
      "There are  7500  taxi ids near the airport!\n"
     ]
    }
   ],
   "source": [
    "near_airport = filter_data_by_gps(df)"
   ]
  },
  {
   "cell_type": "code",
   "execution_count": 8,
   "metadata": {},
   "outputs": [],
   "source": [
    "def get_taxi_data_near_airport_data(near_airport, full_df):\n",
    "    taxi_ids = near_airport['taxi_id'].unique()\n",
    "    \n",
    "    relevant_taxis = full_df[full_df['taxi_id'].isin(taxi_ids)]\n",
    "    \n",
    "    return relevant_taxis"
   ]
  },
  {
   "cell_type": "code",
   "execution_count": 9,
   "metadata": {},
   "outputs": [],
   "source": [
    "relevant_df = get_taxi_data_near_airport_data(near_airport, df)"
   ]
  },
  {
   "cell_type": "code",
   "execution_count": 10,
   "metadata": {},
   "outputs": [
    {
     "name": "stdout",
     "output_type": "stream",
     "text": [
      "23537617\n"
     ]
    }
   ],
   "source": [
    "print(len(relevant_df))"
   ]
  },
  {
   "cell_type": "code",
   "execution_count": 11,
   "metadata": {},
   "outputs": [],
   "source": [
    "def lookup(s):\n",
    "    \"\"\"\n",
    "    This is an extremely fast approach to datetime parsing.\n",
    "    For large data, the same dates are often repeated. Rather than\n",
    "    re-parse these, we store all unique dates, parse them, and\n",
    "    use a lookup to convert all dates.\n",
    "    \"\"\"\n",
    "    dates = {date: pd.to_datetime(date) for date in s.unique()}\n",
    "    return s.map(dates)"
   ]
  },
  {
   "cell_type": "code",
   "execution_count": 12,
   "metadata": {},
   "outputs": [],
   "source": [
    "def label_trajectories(df):\n",
    "    df['time'] = lookup(df['time'])\n",
    "    updated_dfs = []\n",
    "    taxi_ids = df['taxi_id'].unique()\n",
    "    print('There are ', len(taxi_ids), ' in this data')\n",
    "    empty_route = -1\n",
    "    trajectory_number = 1\n",
    "\n",
    "    completed_count = 0\n",
    "\n",
    "    for taxi_id in taxi_ids:\n",
    "        # get the df for that taxis\n",
    "        taxi_df = df.loc[df['taxi_id'] == taxi_id]\n",
    "        taxi_df.sort_values(by=['time'], inplace=True)\n",
    "        passenger_got_in = False\n",
    "        route_numbers = []\n",
    "        route_starts = []\n",
    "        route_ends = []\n",
    "\n",
    "        for index, row in taxi_df.iterrows():\n",
    "            passenger_in_taxi = row['occupancy_status']\n",
    "\n",
    "            # Do we already have a passenger?\n",
    "            if passenger_got_in:\n",
    "                if passenger_in_taxi:\n",
    "                    # trajectory still going\n",
    "                    route_starts.append(False)\n",
    "                    route_ends.append(False)\n",
    "                    route_numbers.append(trajectory_number)\n",
    "                    continue\n",
    "                elif not passenger_in_taxi:\n",
    "                    # trajectory ended\n",
    "                    passenger_got_in = False\n",
    "                    route_starts.append(False)\n",
    "                    route_ends.append(True)\n",
    "                    route_numbers.append(trajectory_number)\n",
    "                    trajectory_number += 1\n",
    "\n",
    "            elif passenger_in_taxi:\n",
    "                passenger_got_in = True\n",
    "                route_starts.append(True)\n",
    "                route_ends.append(False)\n",
    "                route_numbers.append(trajectory_number)\n",
    "\n",
    "            else:\n",
    "                route_starts.append(False)\n",
    "                route_ends.append(False)\n",
    "                route_numbers.append(empty_route)\n",
    "\n",
    "        taxi_df['route_number'] = route_numbers\n",
    "        taxi_df['route_start'] = route_starts\n",
    "        taxi_df['route_end'] = route_ends\n",
    "        updated_dfs.append(taxi_df)\n",
    "        completed_count += 1\n",
    "\n",
    "        if completed_count % 100 == 0:\n",
    "            print('Completed ', completed_count, ' taxi_ids out of ', len(taxi_ids))\n",
    "\n",
    "    return pd.concat(updated_dfs)"
   ]
  },
  {
   "cell_type": "code",
   "execution_count": 13,
   "metadata": {},
   "outputs": [
    {
     "name": "stderr",
     "output_type": "stream",
     "text": [
      "/Library/Frameworks/Python.framework/Versions/3.6/lib/python3.6/site-packages/ipykernel_launcher.py:2: SettingWithCopyWarning: \n",
      "A value is trying to be set on a copy of a slice from a DataFrame.\n",
      "Try using .loc[row_indexer,col_indexer] = value instead\n",
      "\n",
      "See the caveats in the documentation: http://pandas.pydata.org/pandas-docs/stable/indexing.html#indexing-view-versus-copy\n",
      "  \n",
      "/Library/Frameworks/Python.framework/Versions/3.6/lib/python3.6/site-packages/ipykernel_launcher.py:14: SettingWithCopyWarning: \n",
      "A value is trying to be set on a copy of a slice from a DataFrame\n",
      "\n",
      "See the caveats in the documentation: http://pandas.pydata.org/pandas-docs/stable/indexing.html#indexing-view-versus-copy\n",
      "  \n"
     ]
    },
    {
     "name": "stdout",
     "output_type": "stream",
     "text": [
      "There are  7500  in this data\n"
     ]
    },
    {
     "name": "stderr",
     "output_type": "stream",
     "text": [
      "/Library/Frameworks/Python.framework/Versions/3.6/lib/python3.6/site-packages/ipykernel_launcher.py:50: SettingWithCopyWarning: \n",
      "A value is trying to be set on a copy of a slice from a DataFrame.\n",
      "Try using .loc[row_indexer,col_indexer] = value instead\n",
      "\n",
      "See the caveats in the documentation: http://pandas.pydata.org/pandas-docs/stable/indexing.html#indexing-view-versus-copy\n",
      "/Library/Frameworks/Python.framework/Versions/3.6/lib/python3.6/site-packages/ipykernel_launcher.py:51: SettingWithCopyWarning: \n",
      "A value is trying to be set on a copy of a slice from a DataFrame.\n",
      "Try using .loc[row_indexer,col_indexer] = value instead\n",
      "\n",
      "See the caveats in the documentation: http://pandas.pydata.org/pandas-docs/stable/indexing.html#indexing-view-versus-copy\n",
      "/Library/Frameworks/Python.framework/Versions/3.6/lib/python3.6/site-packages/ipykernel_launcher.py:52: SettingWithCopyWarning: \n",
      "A value is trying to be set on a copy of a slice from a DataFrame.\n",
      "Try using .loc[row_indexer,col_indexer] = value instead\n",
      "\n",
      "See the caveats in the documentation: http://pandas.pydata.org/pandas-docs/stable/indexing.html#indexing-view-versus-copy\n"
     ]
    },
    {
     "name": "stdout",
     "output_type": "stream",
     "text": [
      "Completed  100  taxi_ids out of  7500\n",
      "Completed  200  taxi_ids out of  7500\n",
      "Completed  300  taxi_ids out of  7500\n",
      "Completed  400  taxi_ids out of  7500\n",
      "Completed  500  taxi_ids out of  7500\n",
      "Completed  600  taxi_ids out of  7500\n",
      "Completed  700  taxi_ids out of  7500\n",
      "Completed  800  taxi_ids out of  7500\n",
      "Completed  900  taxi_ids out of  7500\n",
      "Completed  1000  taxi_ids out of  7500\n",
      "Completed  1100  taxi_ids out of  7500\n",
      "Completed  1200  taxi_ids out of  7500\n",
      "Completed  1300  taxi_ids out of  7500\n",
      "Completed  1400  taxi_ids out of  7500\n",
      "Completed  1500  taxi_ids out of  7500\n",
      "Completed  1600  taxi_ids out of  7500\n",
      "Completed  1700  taxi_ids out of  7500\n",
      "Completed  1800  taxi_ids out of  7500\n",
      "Completed  1900  taxi_ids out of  7500\n",
      "Completed  2000  taxi_ids out of  7500\n",
      "Completed  2100  taxi_ids out of  7500\n",
      "Completed  2200  taxi_ids out of  7500\n",
      "Completed  2300  taxi_ids out of  7500\n",
      "Completed  2400  taxi_ids out of  7500\n",
      "Completed  2500  taxi_ids out of  7500\n",
      "Completed  2600  taxi_ids out of  7500\n",
      "Completed  2700  taxi_ids out of  7500\n",
      "Completed  2800  taxi_ids out of  7500\n",
      "Completed  2900  taxi_ids out of  7500\n",
      "Completed  3000  taxi_ids out of  7500\n",
      "Completed  3100  taxi_ids out of  7500\n",
      "Completed  3200  taxi_ids out of  7500\n",
      "Completed  3300  taxi_ids out of  7500\n",
      "Completed  3400  taxi_ids out of  7500\n",
      "Completed  3500  taxi_ids out of  7500\n",
      "Completed  3600  taxi_ids out of  7500\n",
      "Completed  3700  taxi_ids out of  7500\n",
      "Completed  3800  taxi_ids out of  7500\n",
      "Completed  3900  taxi_ids out of  7500\n",
      "Completed  4000  taxi_ids out of  7500\n",
      "Completed  4100  taxi_ids out of  7500\n",
      "Completed  4200  taxi_ids out of  7500\n",
      "Completed  4300  taxi_ids out of  7500\n",
      "Completed  4400  taxi_ids out of  7500\n",
      "Completed  4500  taxi_ids out of  7500\n",
      "Completed  4600  taxi_ids out of  7500\n",
      "Completed  4700  taxi_ids out of  7500\n",
      "Completed  4800  taxi_ids out of  7500\n",
      "Completed  4900  taxi_ids out of  7500\n",
      "Completed  5000  taxi_ids out of  7500\n",
      "Completed  5100  taxi_ids out of  7500\n",
      "Completed  5200  taxi_ids out of  7500\n",
      "Completed  5300  taxi_ids out of  7500\n",
      "Completed  5400  taxi_ids out of  7500\n",
      "Completed  5500  taxi_ids out of  7500\n",
      "Completed  5600  taxi_ids out of  7500\n",
      "Completed  5700  taxi_ids out of  7500\n",
      "Completed  5800  taxi_ids out of  7500\n",
      "Completed  5900  taxi_ids out of  7500\n",
      "Completed  6000  taxi_ids out of  7500\n",
      "Completed  6100  taxi_ids out of  7500\n",
      "Completed  6200  taxi_ids out of  7500\n",
      "Completed  6300  taxi_ids out of  7500\n",
      "Completed  6400  taxi_ids out of  7500\n",
      "Completed  6500  taxi_ids out of  7500\n",
      "Completed  6600  taxi_ids out of  7500\n",
      "Completed  6700  taxi_ids out of  7500\n",
      "Completed  6800  taxi_ids out of  7500\n",
      "Completed  6900  taxi_ids out of  7500\n",
      "Completed  7000  taxi_ids out of  7500\n",
      "Completed  7100  taxi_ids out of  7500\n",
      "Completed  7200  taxi_ids out of  7500\n",
      "Completed  7300  taxi_ids out of  7500\n",
      "Completed  7400  taxi_ids out of  7500\n",
      "Completed  7500  taxi_ids out of  7500\n"
     ]
    }
   ],
   "source": [
    "# labeled = label_trajectories(relevant_df)"
   ]
  },
  {
   "cell_type": "code",
   "execution_count": 14,
   "metadata": {},
   "outputs": [],
   "source": [
    "# labeled.to_csv('original-labeled-routes.csv', encoding='utf-8')"
   ]
  },
  {
   "cell_type": "code",
   "execution_count": 18,
   "metadata": {},
   "outputs": [],
   "source": [
    "def filter_data_by_train_gps(df, with_pass=False):\n",
    "    # Train Station in Shenzhen is 22.605502, 114.023724 and 22.613580, 114.034568.\n",
    "    all_taxi_ids = df['taxi_id'].unique()\n",
    "    print('There are ', len(all_taxi_ids), ' taxi ids in this dataset!')\n",
    "\n",
    "    near_lat = df[(df['latitude'] >= 22.605502) & (df['latitude'] <= 22.613580)]\n",
    "    print('There are ', len(near_lat), ' GPS readings near the latitude of the airport')\n",
    "\n",
    "    near_airport = near_lat[(near_lat['longitude'] >= 114.023724) & (near_lat['longitude'] <= 114.034568)]\n",
    "\n",
    "    print('There are ', len(near_airport), ' GPS readings near the airport!')\n",
    "    taxi_ids = near_airport['taxi_id'].unique()\n",
    "    print('There are ', len(taxi_ids), ' taxi ids near the airport!')\n",
    "\n",
    "    if with_pass:\n",
    "        with_pass = near_airport[near_airport['occupancy_status'] == 1]\n",
    "        print('There are ', len(with_pass), ' GPS readings near the airport with a passenger!')\n",
    "        with_pass_ids = with_pass['taxi_id'].unique()\n",
    "        print('There are ', len(with_pass_ids), ' taxi ids near the airport with a passenger!')\n",
    "        return with_pass\n",
    "    else:\n",
    "        return near_airport"
   ]
  },
  {
   "cell_type": "code",
   "execution_count": 24,
   "metadata": {},
   "outputs": [],
   "source": [
    "with open('original-airport_to_train_route_numbers.txt', 'w') as f:\n",
    "    for route_number in air_to_train:\n",
    "        f.write(\"%s\\n\" % route_number)"
   ]
  },
  {
   "cell_type": "code",
   "execution_count": 25,
   "metadata": {},
   "outputs": [],
   "source": [
    "with open('original-train_to_airport_route_numbers.txt', 'w') as f:\n",
    "    for route_number in train_to_air:\n",
    "        f.write(\"%s\\n\" % route_number)"
   ]
  },
  {
   "cell_type": "code",
   "execution_count": 41,
   "metadata": {},
   "outputs": [],
   "source": [
    "base_path = os.getcwd()\n",
    "full_path = base_path + '/original-labeled-routes.csv'\n",
    "labeled = pd.read_csv(full_path)\n",
    "labeled.drop(labeled.columns[0], axis=1)\n",
    "labeled = labeled[labeled['route_number'] != -1]"
   ]
  },
  {
   "cell_type": "code",
   "execution_count": 42,
   "metadata": {},
   "outputs": [
    {
     "data": {
      "text/html": [
       "<div>\n",
       "<style scoped>\n",
       "    .dataframe tbody tr th:only-of-type {\n",
       "        vertical-align: middle;\n",
       "    }\n",
       "\n",
       "    .dataframe tbody tr th {\n",
       "        vertical-align: top;\n",
       "    }\n",
       "\n",
       "    .dataframe thead th {\n",
       "        text-align: right;\n",
       "    }\n",
       "</style>\n",
       "<table border=\"1\" class=\"dataframe\">\n",
       "  <thead>\n",
       "    <tr style=\"text-align: right;\">\n",
       "      <th></th>\n",
       "      <th>Unnamed: 0</th>\n",
       "      <th>taxi_id</th>\n",
       "      <th>time</th>\n",
       "      <th>longitude</th>\n",
       "      <th>latitude</th>\n",
       "      <th>occupancy_status</th>\n",
       "      <th>speed</th>\n",
       "      <th>route_number</th>\n",
       "      <th>route_start</th>\n",
       "      <th>route_end</th>\n",
       "    </tr>\n",
       "  </thead>\n",
       "  <tbody>\n",
       "    <tr>\n",
       "      <th>13</th>\n",
       "      <td>6602</td>\n",
       "      <td>22224</td>\n",
       "      <td>2018-11-25 00:03:28</td>\n",
       "      <td>114.034332</td>\n",
       "      <td>22.554117</td>\n",
       "      <td>1</td>\n",
       "      <td>53</td>\n",
       "      <td>1</td>\n",
       "      <td>True</td>\n",
       "      <td>False</td>\n",
       "    </tr>\n",
       "    <tr>\n",
       "      <th>14</th>\n",
       "      <td>4889</td>\n",
       "      <td>22224</td>\n",
       "      <td>2018-11-25 00:03:43</td>\n",
       "      <td>114.033501</td>\n",
       "      <td>22.552917</td>\n",
       "      <td>1</td>\n",
       "      <td>41</td>\n",
       "      <td>1</td>\n",
       "      <td>False</td>\n",
       "      <td>False</td>\n",
       "    </tr>\n",
       "    <tr>\n",
       "      <th>15</th>\n",
       "      <td>2675</td>\n",
       "      <td>22224</td>\n",
       "      <td>2018-11-25 00:06:04</td>\n",
       "      <td>114.031998</td>\n",
       "      <td>22.548750</td>\n",
       "      <td>0</td>\n",
       "      <td>3</td>\n",
       "      <td>1</td>\n",
       "      <td>False</td>\n",
       "      <td>True</td>\n",
       "    </tr>\n",
       "    <tr>\n",
       "      <th>40</th>\n",
       "      <td>3705</td>\n",
       "      <td>22224</td>\n",
       "      <td>2018-11-25 00:13:56</td>\n",
       "      <td>114.040421</td>\n",
       "      <td>22.551434</td>\n",
       "      <td>1</td>\n",
       "      <td>17</td>\n",
       "      <td>2</td>\n",
       "      <td>True</td>\n",
       "      <td>False</td>\n",
       "    </tr>\n",
       "    <tr>\n",
       "      <th>41</th>\n",
       "      <td>3490</td>\n",
       "      <td>22224</td>\n",
       "      <td>2018-11-25 00:14:11</td>\n",
       "      <td>114.039886</td>\n",
       "      <td>22.552834</td>\n",
       "      <td>1</td>\n",
       "      <td>33</td>\n",
       "      <td>2</td>\n",
       "      <td>False</td>\n",
       "      <td>False</td>\n",
       "    </tr>\n",
       "  </tbody>\n",
       "</table>\n",
       "</div>"
      ],
      "text/plain": [
       "    Unnamed: 0  taxi_id                 time   longitude   latitude  \\\n",
       "13        6602    22224  2018-11-25 00:03:28  114.034332  22.554117   \n",
       "14        4889    22224  2018-11-25 00:03:43  114.033501  22.552917   \n",
       "15        2675    22224  2018-11-25 00:06:04  114.031998  22.548750   \n",
       "40        3705    22224  2018-11-25 00:13:56  114.040421  22.551434   \n",
       "41        3490    22224  2018-11-25 00:14:11  114.039886  22.552834   \n",
       "\n",
       "    occupancy_status  speed  route_number  route_start  route_end  \n",
       "13                 1     53             1         True      False  \n",
       "14                 1     41             1        False      False  \n",
       "15                 0      3             1        False       True  \n",
       "40                 1     17             2         True      False  \n",
       "41                 1     33             2        False      False  "
      ]
     },
     "execution_count": 42,
     "metadata": {},
     "output_type": "execute_result"
    }
   ],
   "source": [
    "labeled.head()"
   ]
  },
  {
   "cell_type": "code",
   "execution_count": 43,
   "metadata": {},
   "outputs": [
    {
     "data": {
      "text/html": [
       "<div>\n",
       "<style scoped>\n",
       "    .dataframe tbody tr th:only-of-type {\n",
       "        vertical-align: middle;\n",
       "    }\n",
       "\n",
       "    .dataframe tbody tr th {\n",
       "        vertical-align: top;\n",
       "    }\n",
       "\n",
       "    .dataframe thead th {\n",
       "        text-align: right;\n",
       "    }\n",
       "</style>\n",
       "<table border=\"1\" class=\"dataframe\">\n",
       "  <thead>\n",
       "    <tr style=\"text-align: right;\">\n",
       "      <th></th>\n",
       "      <th>Unnamed: 0</th>\n",
       "      <th>taxi_id</th>\n",
       "      <th>time</th>\n",
       "      <th>longitude</th>\n",
       "      <th>latitude</th>\n",
       "      <th>occupancy_status</th>\n",
       "      <th>speed</th>\n",
       "      <th>route_number</th>\n",
       "      <th>route_start</th>\n",
       "      <th>route_end</th>\n",
       "    </tr>\n",
       "  </thead>\n",
       "  <tbody>\n",
       "    <tr>\n",
       "      <th>13</th>\n",
       "      <td>6602</td>\n",
       "      <td>22224</td>\n",
       "      <td>2018-11-25 00:03:28</td>\n",
       "      <td>114.034332</td>\n",
       "      <td>22.554117</td>\n",
       "      <td>1</td>\n",
       "      <td>53</td>\n",
       "      <td>172593</td>\n",
       "      <td>True</td>\n",
       "      <td>False</td>\n",
       "    </tr>\n",
       "    <tr>\n",
       "      <th>14</th>\n",
       "      <td>4889</td>\n",
       "      <td>22224</td>\n",
       "      <td>2018-11-25 00:03:43</td>\n",
       "      <td>114.033501</td>\n",
       "      <td>22.552917</td>\n",
       "      <td>1</td>\n",
       "      <td>41</td>\n",
       "      <td>172593</td>\n",
       "      <td>False</td>\n",
       "      <td>False</td>\n",
       "    </tr>\n",
       "    <tr>\n",
       "      <th>15</th>\n",
       "      <td>2675</td>\n",
       "      <td>22224</td>\n",
       "      <td>2018-11-25 00:06:04</td>\n",
       "      <td>114.031998</td>\n",
       "      <td>22.548750</td>\n",
       "      <td>0</td>\n",
       "      <td>3</td>\n",
       "      <td>172593</td>\n",
       "      <td>False</td>\n",
       "      <td>True</td>\n",
       "    </tr>\n",
       "    <tr>\n",
       "      <th>40</th>\n",
       "      <td>3705</td>\n",
       "      <td>22224</td>\n",
       "      <td>2018-11-25 00:13:56</td>\n",
       "      <td>114.040421</td>\n",
       "      <td>22.551434</td>\n",
       "      <td>1</td>\n",
       "      <td>17</td>\n",
       "      <td>172594</td>\n",
       "      <td>True</td>\n",
       "      <td>False</td>\n",
       "    </tr>\n",
       "    <tr>\n",
       "      <th>41</th>\n",
       "      <td>3490</td>\n",
       "      <td>22224</td>\n",
       "      <td>2018-11-25 00:14:11</td>\n",
       "      <td>114.039886</td>\n",
       "      <td>22.552834</td>\n",
       "      <td>1</td>\n",
       "      <td>33</td>\n",
       "      <td>172594</td>\n",
       "      <td>False</td>\n",
       "      <td>False</td>\n",
       "    </tr>\n",
       "  </tbody>\n",
       "</table>\n",
       "</div>"
      ],
      "text/plain": [
       "    Unnamed: 0  taxi_id                 time   longitude   latitude  \\\n",
       "13        6602    22224  2018-11-25 00:03:28  114.034332  22.554117   \n",
       "14        4889    22224  2018-11-25 00:03:43  114.033501  22.552917   \n",
       "15        2675    22224  2018-11-25 00:06:04  114.031998  22.548750   \n",
       "40        3705    22224  2018-11-25 00:13:56  114.040421  22.551434   \n",
       "41        3490    22224  2018-11-25 00:14:11  114.039886  22.552834   \n",
       "\n",
       "    occupancy_status  speed  route_number  route_start  route_end  \n",
       "13                 1     53        172593         True      False  \n",
       "14                 1     41        172593        False      False  \n",
       "15                 0      3        172593        False       True  \n",
       "40                 1     17        172594         True      False  \n",
       "41                 1     33        172594        False      False  "
      ]
     },
     "execution_count": 43,
     "metadata": {},
     "output_type": "execute_result"
    }
   ],
   "source": [
    "# Change the route numbers in this CSV so that they start after the route numbers in the other CSV file\n",
    "# Add 172592 to each route number\n",
    "labeled[\"route_number\"] = labeled[\"route_number\"] + 172592 \n",
    "labeled.head()"
   ]
  },
  {
   "cell_type": "code",
   "execution_count": 44,
   "metadata": {},
   "outputs": [],
   "source": [
    "# labeled.to_csv('original-labeled-routes-updated.csv', encoding='utf-8')"
   ]
  },
  {
   "cell_type": "code",
   "execution_count": 45,
   "metadata": {},
   "outputs": [
    {
     "name": "stdout",
     "output_type": "stream",
     "text": [
      "280008\n"
     ]
    }
   ],
   "source": [
    "labeled_starts = labeled[labeled['route_start'] == True]\n",
    "print(len(labeled_starts))\n",
    "\n",
    "labeled_ends = labeled[labeled['route_end'] == True]\n",
    "print(len(labeled_ends))"
   ]
  },
  {
   "cell_type": "code",
   "execution_count": 47,
   "metadata": {},
   "outputs": [
    {
     "name": "stdout",
     "output_type": "stream",
     "text": [
      "There are  5655  taxi ids in this dataset!\n",
      "There are  20192  GPS readings near the latitude of the airport\n",
      "There are  7047  GPS readings near the airport!\n",
      "There are  4224  taxi ids near the airport!\n",
      "7047\n",
      "There are  5578  taxi ids in this dataset!\n",
      "There are  7141  GPS readings near the latitude of the airport\n",
      "There are  1427  GPS readings near the airport!\n",
      "There are  1073  taxi ids near the airport!\n",
      "1427\n"
     ]
    }
   ],
   "source": [
    "air_starts = filter_data_by_gps(labeled_starts, with_pass=False)\n",
    "print(len(air_starts))\n",
    "\n",
    "train_ends = filter_data_by_train_gps(labeled_ends)\n",
    "print(len(train_ends))"
   ]
  },
  {
   "cell_type": "code",
   "execution_count": 48,
   "metadata": {},
   "outputs": [
    {
     "name": "stdout",
     "output_type": "stream",
     "text": [
      "15\n"
     ]
    }
   ],
   "source": [
    "route_end_numbers = train_ends['route_number'].unique()\n",
    "route_start_numbers = air_starts['route_number'].unique()\n",
    "air_to_train = list(set(route_start_numbers) & set(route_end_numbers))\n",
    "print(len(air_to_train))"
   ]
  },
  {
   "cell_type": "code",
   "execution_count": 57,
   "metadata": {},
   "outputs": [
    {
     "name": "stdout",
     "output_type": "stream",
     "text": [
      "[277593, 235842, 344327, 384940, 297166, 337840, 320657, 208721, 343667, 178778, 228565, 262969, 329370, 293275, 433086]\n"
     ]
    }
   ],
   "source": [
    "print(air_to_train)"
   ]
  },
  {
   "cell_type": "code",
   "execution_count": 49,
   "metadata": {},
   "outputs": [
    {
     "name": "stdout",
     "output_type": "stream",
     "text": [
      "There are  5655  taxi ids in this dataset!\n",
      "There are  6864  GPS readings near the latitude of the airport\n",
      "There are  1109  GPS readings near the airport!\n",
      "There are  865  taxi ids near the airport!\n",
      "There are  5578  taxi ids in this dataset!\n",
      "There are  17466  GPS readings near the latitude of the airport\n",
      "There are  3291  GPS readings near the airport!\n",
      "There are  2435  taxi ids near the airport!\n",
      "1109\n",
      "3291\n"
     ]
    }
   ],
   "source": [
    "train_starts = filter_data_by_train_gps(labeled_starts)\n",
    "air_ends = filter_data_by_gps(labeled_ends, with_pass=False)\n",
    "\n",
    "print(len(train_starts))\n",
    "print(len(air_ends))"
   ]
  },
  {
   "cell_type": "code",
   "execution_count": 50,
   "metadata": {},
   "outputs": [
    {
     "name": "stdout",
     "output_type": "stream",
     "text": [
      "4\n"
     ]
    }
   ],
   "source": [
    "air_end_numbers = air_ends['route_number'].unique()\n",
    "train_start_numbers = train_starts['route_number'].unique()\n",
    "\n",
    "train_to_air = list(set(air_end_numbers) & set(train_start_numbers))\n",
    "print(len(train_to_air))"
   ]
  },
  {
   "cell_type": "code",
   "execution_count": 51,
   "metadata": {},
   "outputs": [
    {
     "name": "stdout",
     "output_type": "stream",
     "text": [
      "[428977, 375971, 324340, 445438]\n"
     ]
    }
   ],
   "source": [
    "print(train_to_air)"
   ]
  },
  {
   "cell_type": "code",
   "execution_count": 58,
   "metadata": {},
   "outputs": [
    {
     "data": {
      "text/html": [
       "<div>\n",
       "<style scoped>\n",
       "    .dataframe tbody tr th:only-of-type {\n",
       "        vertical-align: middle;\n",
       "    }\n",
       "\n",
       "    .dataframe tbody tr th {\n",
       "        vertical-align: top;\n",
       "    }\n",
       "\n",
       "    .dataframe thead th {\n",
       "        text-align: right;\n",
       "    }\n",
       "</style>\n",
       "<table border=\"1\" class=\"dataframe\">\n",
       "  <thead>\n",
       "    <tr style=\"text-align: right;\">\n",
       "      <th></th>\n",
       "      <th>Unnamed: 0</th>\n",
       "      <th>taxi_id</th>\n",
       "      <th>time</th>\n",
       "      <th>longitude</th>\n",
       "      <th>latitude</th>\n",
       "      <th>occupancy_status</th>\n",
       "      <th>speed</th>\n",
       "      <th>route_number</th>\n",
       "      <th>route_start</th>\n",
       "      <th>route_end</th>\n",
       "    </tr>\n",
       "  </thead>\n",
       "  <tbody>\n",
       "    <tr>\n",
       "      <th>5438778</th>\n",
       "      <td>11069733</td>\n",
       "      <td>25533</td>\n",
       "      <td>2018-11-25 18:58:12</td>\n",
       "      <td>113.809944</td>\n",
       "      <td>22.626711</td>\n",
       "      <td>1</td>\n",
       "      <td>2</td>\n",
       "      <td>235842</td>\n",
       "      <td>True</td>\n",
       "      <td>False</td>\n",
       "    </tr>\n",
       "    <tr>\n",
       "      <th>5438779</th>\n",
       "      <td>11069284</td>\n",
       "      <td>25533</td>\n",
       "      <td>2018-11-25 18:58:46</td>\n",
       "      <td>113.808609</td>\n",
       "      <td>22.625177</td>\n",
       "      <td>1</td>\n",
       "      <td>42</td>\n",
       "      <td>235842</td>\n",
       "      <td>False</td>\n",
       "      <td>False</td>\n",
       "    </tr>\n",
       "    <tr>\n",
       "      <th>5438780</th>\n",
       "      <td>11069732</td>\n",
       "      <td>25533</td>\n",
       "      <td>2018-11-25 18:59:46</td>\n",
       "      <td>113.809433</td>\n",
       "      <td>22.618975</td>\n",
       "      <td>1</td>\n",
       "      <td>69</td>\n",
       "      <td>235842</td>\n",
       "      <td>False</td>\n",
       "      <td>False</td>\n",
       "    </tr>\n",
       "    <tr>\n",
       "      <th>5438781</th>\n",
       "      <td>11070221</td>\n",
       "      <td>25533</td>\n",
       "      <td>2018-11-25 19:00:46</td>\n",
       "      <td>113.814407</td>\n",
       "      <td>22.610636</td>\n",
       "      <td>1</td>\n",
       "      <td>56</td>\n",
       "      <td>235842</td>\n",
       "      <td>False</td>\n",
       "      <td>False</td>\n",
       "    </tr>\n",
       "    <tr>\n",
       "      <th>5438782</th>\n",
       "      <td>11069002</td>\n",
       "      <td>25533</td>\n",
       "      <td>2018-11-25 19:01:46</td>\n",
       "      <td>113.821671</td>\n",
       "      <td>22.613285</td>\n",
       "      <td>1</td>\n",
       "      <td>67</td>\n",
       "      <td>235842</td>\n",
       "      <td>False</td>\n",
       "      <td>False</td>\n",
       "    </tr>\n",
       "  </tbody>\n",
       "</table>\n",
       "</div>"
      ],
      "text/plain": [
       "         Unnamed: 0  taxi_id                 time   longitude   latitude  \\\n",
       "5438778    11069733    25533  2018-11-25 18:58:12  113.809944  22.626711   \n",
       "5438779    11069284    25533  2018-11-25 18:58:46  113.808609  22.625177   \n",
       "5438780    11069732    25533  2018-11-25 18:59:46  113.809433  22.618975   \n",
       "5438781    11070221    25533  2018-11-25 19:00:46  113.814407  22.610636   \n",
       "5438782    11069002    25533  2018-11-25 19:01:46  113.821671  22.613285   \n",
       "\n",
       "         occupancy_status  speed  route_number  route_start  route_end  \n",
       "5438778                 1      2        235842         True      False  \n",
       "5438779                 1     42        235842        False      False  \n",
       "5438780                 1     69        235842        False      False  \n",
       "5438781                 1     56        235842        False      False  \n",
       "5438782                 1     67        235842        False      False  "
      ]
     },
     "execution_count": 58,
     "metadata": {},
     "output_type": "execute_result"
    }
   ],
   "source": [
    "x = labeled[labeled['route_number'] == 235842]\n",
    "x.head()\n",
    "print(len(x))"
   ]
  },
  {
   "cell_type": "code",
   "execution_count": 59,
   "metadata": {},
   "outputs": [
    {
     "name": "stdout",
     "output_type": "stream",
     "text": [
      "51\n"
     ]
    }
   ],
   "source": [
    "print(len(x))"
   ]
  },
  {
   "cell_type": "code",
   "execution_count": 70,
   "metadata": {},
   "outputs": [],
   "source": [
    "train_to_air_route_df = labeled[labeled['route_number'].isin(train_to_air)]\n",
    "train_to_air_route_df = train_to_air_route_df.drop(train_to_air_route_df.columns[0], axis=1)\n",
    "train_to_air_route_df = train_to_air_route_df.drop(train_to_air_route_df.columns[5], axis=1)\n",
    "train_to_air_route_df.to_csv('train-to-air-routes-no-grids.csv', encoding='utf-8', index=False)"
   ]
  },
  {
   "cell_type": "code",
   "execution_count": 71,
   "metadata": {},
   "outputs": [],
   "source": [
    "air_to_air_train_df = labeled[labeled['route_number'].isin(air_to_train)]\n",
    "air_to_air_train_df = air_to_air_train_df.drop(air_to_air_train_df.columns[0], axis=1)\n",
    "air_to_air_train_df = air_to_air_train_df.drop(air_to_air_train_df.columns[5], axis=1)\n",
    "air_to_air_train_df.to_csv('air-to-train-routes-no-grids.csv', encoding='utf-8')\n"
   ]
  },
  {
   "cell_type": "code",
   "execution_count": null,
   "metadata": {},
   "outputs": [],
   "source": []
  }
 ],
 "metadata": {
  "kernelspec": {
   "display_name": "Python 3",
   "language": "python",
   "name": "python3"
  },
  "language_info": {
   "codemirror_mode": {
    "name": "ipython",
    "version": 3
   },
   "file_extension": ".py",
   "mimetype": "text/x-python",
   "name": "python",
   "nbconvert_exporter": "python",
   "pygments_lexer": "ipython3",
   "version": "3.6.4"
  }
 },
 "nbformat": 4,
 "nbformat_minor": 2
}
