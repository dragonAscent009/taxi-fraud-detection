{
 "cells": [
  {
   "cell_type": "code",
   "execution_count": 3,
   "metadata": {},
   "outputs": [],
   "source": [
    "import pandas as pd\n",
    "import os"
   ]
  },
  {
   "cell_type": "code",
   "execution_count": 6,
   "metadata": {},
   "outputs": [],
   "source": [
    "def load_csv_as_df(file_name, sub_directories, column_numbers=None, column_names=None):\n",
    "    '''\n",
    "    Load any csv as a pandas dataframe. Provide the filename, the subdirectories, and columns to read(if desired).\n",
    "    '''\n",
    "    base_path = os.getcwd()\n",
    "    full_path = base_path + sub_directories + file_name\n",
    "\n",
    "    if column_numbers is not None:\n",
    "        df = pd.read_csv(full_path, usecols=column_numbers)\n",
    "    else:\n",
    "        df = pd.read_csv(full_path)\n",
    "\n",
    "    if column_names is not None:\n",
    "        df.columns = column_names\n",
    "\n",
    "    return df"
   ]
  },
  {
   "cell_type": "code",
   "execution_count": 9,
   "metadata": {},
   "outputs": [],
   "source": [
    "def load_data(file_name, sub_directories):\n",
    "    col_names = ['taxi_id', 'longitude', 'latitude', 'time', 'occupancy_status']\n",
    "\n",
    "    df = load_csv_as_df(file_name, sub_directories, None, col_names)\n",
    "\n",
    "    return df"
   ]
  },
  {
   "cell_type": "code",
   "execution_count": 10,
   "metadata": {},
   "outputs": [
    {
     "name": "stderr",
     "output_type": "stream",
     "text": [
      "/Library/Frameworks/Python.framework/Versions/3.6/lib/python3.6/site-packages/IPython/core/interactiveshell.py:2910: DtypeWarning: Columns (2) have mixed types. Specify dtype option on import or set low_memory=False.\n",
      "  exec(code_obj, self.user_global_ns, self.user_ns)\n"
     ]
    }
   ],
   "source": [
    "df = load_data('GPS_2016_06_13', '/')"
   ]
  },
  {
   "cell_type": "code",
   "execution_count": 10,
   "metadata": {},
   "outputs": [],
   "source": [
    "def filter_data_by_gps(df, with_pass=False):\n",
    "    # Airport in Shenzhen is 22.627078, 113.804928 and 22.606742, 113.827262.\n",
    "    # Train Station in Shenzhen is 22.605502, 114.023724 and 22.613580, 114.034568.\n",
    "\n",
    "    all_taxi_ids = df['taxi_id'].unique()\n",
    "    print('There are ', len(all_taxi_ids), ' taxi ids in this dataset!')\n",
    "\n",
    "    near_lat = df[(df['latitude'] >= 22.606742) & (df['latitude'] <= 22.627078)]\n",
    "    print('There are ', len(near_lat), ' GPS readings near the latitude of the airport')\n",
    "\n",
    "    near_airport = near_lat[(near_lat['longitude'] >= 113.804928) & (near_lat['longitude'] <= 113.827262)]\n",
    "\n",
    "    print('There are ', len(near_airport), ' GPS readings near the airport!')\n",
    "    taxi_ids = near_airport['taxi_id'].unique()\n",
    "    print('There are ', len(taxi_ids), ' taxi ids near the airport!')\n",
    "\n",
    "    if with_pass:\n",
    "        with_pass = near_airport[near_airport['occupancy_status'] == 1]\n",
    "        print('There are ', len(with_pass), ' GPS readings near the airport with a passenger!')\n",
    "        with_pass_ids = with_pass['taxi_id'].unique()\n",
    "        print('There are ', len(with_pass_ids), ' taxi ids near the airport with a passenger!')\n",
    "        return with_pass\n",
    "    else:\n",
    "        return near_airport"
   ]
  },
  {
   "cell_type": "code",
   "execution_count": 17,
   "metadata": {},
   "outputs": [],
   "source": [
    "df[\"latitude\"] = pd.to_numeric(df[\"latitude\"], errors='coerce')"
   ]
  },
  {
   "cell_type": "code",
   "execution_count": 18,
   "metadata": {},
   "outputs": [
    {
     "data": {
      "text/plain": [
       "taxi_id              object\n",
       "longitude           float64\n",
       "latitude            float64\n",
       "time                 object\n",
       "occupancy_status      int64\n",
       "dtype: object"
      ]
     },
     "execution_count": 18,
     "metadata": {},
     "output_type": "execute_result"
    }
   ],
   "source": [
    "df.dtypes"
   ]
  },
  {
   "cell_type": "code",
   "execution_count": 19,
   "metadata": {},
   "outputs": [
    {
     "data": {
      "text/html": [
       "<div>\n",
       "<style scoped>\n",
       "    .dataframe tbody tr th:only-of-type {\n",
       "        vertical-align: middle;\n",
       "    }\n",
       "\n",
       "    .dataframe tbody tr th {\n",
       "        vertical-align: top;\n",
       "    }\n",
       "\n",
       "    .dataframe thead th {\n",
       "        text-align: right;\n",
       "    }\n",
       "</style>\n",
       "<table border=\"1\" class=\"dataframe\">\n",
       "  <thead>\n",
       "    <tr style=\"text-align: right;\">\n",
       "      <th></th>\n",
       "      <th>taxi_id</th>\n",
       "      <th>longitude</th>\n",
       "      <th>latitude</th>\n",
       "      <th>time</th>\n",
       "      <th>occupancy_status</th>\n",
       "    </tr>\n",
       "  </thead>\n",
       "  <tbody>\n",
       "    <tr>\n",
       "      <th>0</th>\n",
       "      <td>c2Zcv7WkrQY=</td>\n",
       "      <td>114.091850</td>\n",
       "      <td>22.541468</td>\n",
       "      <td>2016-06-13 00:08:51</td>\n",
       "      <td>0</td>\n",
       "    </tr>\n",
       "    <tr>\n",
       "      <th>1</th>\n",
       "      <td>S5J3ZlYOh0g=</td>\n",
       "      <td>113.881599</td>\n",
       "      <td>22.571600</td>\n",
       "      <td>2016-06-13 00:08:32</td>\n",
       "      <td>0</td>\n",
       "    </tr>\n",
       "    <tr>\n",
       "      <th>2</th>\n",
       "      <td>dLZ1aGYxi9I=</td>\n",
       "      <td>113.919151</td>\n",
       "      <td>22.527117</td>\n",
       "      <td>2016-06-13 00:08:43</td>\n",
       "      <td>1</td>\n",
       "    </tr>\n",
       "    <tr>\n",
       "      <th>3</th>\n",
       "      <td>gcWhFSorFRc=</td>\n",
       "      <td>114.092903</td>\n",
       "      <td>22.543301</td>\n",
       "      <td>2016-06-13 00:08:23</td>\n",
       "      <td>0</td>\n",
       "    </tr>\n",
       "    <tr>\n",
       "      <th>4</th>\n",
       "      <td>o3Aq6hjujQw=</td>\n",
       "      <td>113.813736</td>\n",
       "      <td>22.624050</td>\n",
       "      <td>2016-06-13 00:08:50</td>\n",
       "      <td>0</td>\n",
       "    </tr>\n",
       "  </tbody>\n",
       "</table>\n",
       "</div>"
      ],
      "text/plain": [
       "        taxi_id   longitude   latitude                 time  occupancy_status\n",
       "0  c2Zcv7WkrQY=  114.091850  22.541468  2016-06-13 00:08:51                 0\n",
       "1  S5J3ZlYOh0g=  113.881599  22.571600  2016-06-13 00:08:32                 0\n",
       "2  dLZ1aGYxi9I=  113.919151  22.527117  2016-06-13 00:08:43                 1\n",
       "3  gcWhFSorFRc=  114.092903  22.543301  2016-06-13 00:08:23                 0\n",
       "4  o3Aq6hjujQw=  113.813736  22.624050  2016-06-13 00:08:50                 0"
      ]
     },
     "execution_count": 19,
     "metadata": {},
     "output_type": "execute_result"
    }
   ],
   "source": [
    "df.head()"
   ]
  },
  {
   "cell_type": "code",
   "execution_count": 65,
   "metadata": {},
   "outputs": [
    {
     "name": "stdout",
     "output_type": "stream",
     "text": [
      "There are  22152  taxi ids in this dataset!\n",
      "There are  5331057  GPS readings near the latitude of the airport\n",
      "There are  1071875  GPS readings near the airport!\n",
      "There are  6562  taxi ids near the airport!\n"
     ]
    }
   ],
   "source": [
    "near_airport = filter_data_by_gps(df)"
   ]
  },
  {
   "cell_type": "code",
   "execution_count": 66,
   "metadata": {},
   "outputs": [],
   "source": [
    "def get_taxi_data_near_airport_data(near_airport, full_df):\n",
    "    taxi_ids = near_airport['taxi_id'].unique()\n",
    "    \n",
    "    relevant_taxis = full_df[full_df['taxi_id'].isin(taxi_ids)]\n",
    "    \n",
    "    return relevant_taxis"
   ]
  },
  {
   "cell_type": "code",
   "execution_count": 67,
   "metadata": {},
   "outputs": [],
   "source": [
    "relevant_df = get_taxi_data_near_airport_data(near_airport, df)"
   ]
  },
  {
   "cell_type": "code",
   "execution_count": 68,
   "metadata": {},
   "outputs": [
    {
     "name": "stdout",
     "output_type": "stream",
     "text": [
      "22911532\n"
     ]
    }
   ],
   "source": [
    "print(len(relevant_df))"
   ]
  },
  {
   "cell_type": "code",
   "execution_count": 69,
   "metadata": {},
   "outputs": [],
   "source": [
    "def lookup(s):\n",
    "    \"\"\"\n",
    "    This is an extremely fast approach to datetime parsing.\n",
    "    For large data, the same dates are often repeated. Rather than\n",
    "    re-parse these, we store all unique dates, parse them, and\n",
    "    use a lookup to convert all dates.\n",
    "    \"\"\"\n",
    "    dates = {date: pd.to_datetime(date) for date in s.unique()}\n",
    "    return s.map(dates)"
   ]
  },
  {
   "cell_type": "code",
   "execution_count": 70,
   "metadata": {},
   "outputs": [],
   "source": [
    "def label_trajectories(df):\n",
    "    df['time'] = lookup(df['time'])\n",
    "    updated_dfs = []\n",
    "    taxi_ids = df['taxi_id'].unique()\n",
    "    print('There are ', len(taxi_ids), ' in this data')\n",
    "    empty_route = -1\n",
    "    trajectory_number = 1\n",
    "\n",
    "    completed_count = 0\n",
    "\n",
    "    for taxi_id in taxi_ids:\n",
    "        # get the df for that taxis\n",
    "        taxi_df = df.loc[df['taxi_id'] == taxi_id]\n",
    "        taxi_df.sort_values(by=['time'], inplace=True)\n",
    "        passenger_got_in = False\n",
    "        route_numbers = []\n",
    "        route_starts = []\n",
    "        route_ends = []\n",
    "\n",
    "        for index, row in taxi_df.iterrows():\n",
    "            passenger_in_taxi = row['occupancy_status']\n",
    "\n",
    "            # Do we already have a passenger?\n",
    "            if passenger_got_in:\n",
    "                if passenger_in_taxi:\n",
    "                    # trajectory still going\n",
    "                    route_starts.append(False)\n",
    "                    route_ends.append(False)\n",
    "                    route_numbers.append(trajectory_number)\n",
    "                    continue\n",
    "                elif not passenger_in_taxi:\n",
    "                    # trajectory ended\n",
    "                    passenger_got_in = False\n",
    "                    route_starts.append(False)\n",
    "                    route_ends.append(True)\n",
    "                    route_numbers.append(trajectory_number)\n",
    "                    trajectory_number += 1\n",
    "\n",
    "            elif passenger_in_taxi:\n",
    "                passenger_got_in = True\n",
    "                route_starts.append(True)\n",
    "                route_ends.append(False)\n",
    "                route_numbers.append(trajectory_number)\n",
    "\n",
    "            else:\n",
    "                route_starts.append(False)\n",
    "                route_ends.append(False)\n",
    "                route_numbers.append(empty_route)\n",
    "\n",
    "        taxi_df['route_number'] = route_numbers\n",
    "        taxi_df['route_start'] = route_starts\n",
    "        taxi_df['route_end'] = route_ends\n",
    "        updated_dfs.append(taxi_df)\n",
    "        completed_count += 1\n",
    "\n",
    "        if completed_count % 100 == 0:\n",
    "            print('Completed ', completed_count, ' taxi_ids out of ', len(taxi_ids))\n",
    "\n",
    "    return pd.concat(updated_dfs)"
   ]
  },
  {
   "cell_type": "code",
   "execution_count": 71,
   "metadata": {},
   "outputs": [
    {
     "name": "stderr",
     "output_type": "stream",
     "text": [
      "/Library/Frameworks/Python.framework/Versions/3.6/lib/python3.6/site-packages/ipykernel_launcher.py:2: SettingWithCopyWarning: \n",
      "A value is trying to be set on a copy of a slice from a DataFrame.\n",
      "Try using .loc[row_indexer,col_indexer] = value instead\n",
      "\n",
      "See the caveats in the documentation: http://pandas.pydata.org/pandas-docs/stable/indexing.html#indexing-view-versus-copy\n",
      "  \n"
     ]
    },
    {
     "name": "stdout",
     "output_type": "stream",
     "text": [
      "There are  6562  in this data\n"
     ]
    },
    {
     "name": "stderr",
     "output_type": "stream",
     "text": [
      "/Library/Frameworks/Python.framework/Versions/3.6/lib/python3.6/site-packages/ipykernel_launcher.py:14: SettingWithCopyWarning: \n",
      "A value is trying to be set on a copy of a slice from a DataFrame\n",
      "\n",
      "See the caveats in the documentation: http://pandas.pydata.org/pandas-docs/stable/indexing.html#indexing-view-versus-copy\n",
      "  \n",
      "/Library/Frameworks/Python.framework/Versions/3.6/lib/python3.6/site-packages/ipykernel_launcher.py:50: SettingWithCopyWarning: \n",
      "A value is trying to be set on a copy of a slice from a DataFrame.\n",
      "Try using .loc[row_indexer,col_indexer] = value instead\n",
      "\n",
      "See the caveats in the documentation: http://pandas.pydata.org/pandas-docs/stable/indexing.html#indexing-view-versus-copy\n",
      "/Library/Frameworks/Python.framework/Versions/3.6/lib/python3.6/site-packages/ipykernel_launcher.py:51: SettingWithCopyWarning: \n",
      "A value is trying to be set on a copy of a slice from a DataFrame.\n",
      "Try using .loc[row_indexer,col_indexer] = value instead\n",
      "\n",
      "See the caveats in the documentation: http://pandas.pydata.org/pandas-docs/stable/indexing.html#indexing-view-versus-copy\n",
      "/Library/Frameworks/Python.framework/Versions/3.6/lib/python3.6/site-packages/ipykernel_launcher.py:52: SettingWithCopyWarning: \n",
      "A value is trying to be set on a copy of a slice from a DataFrame.\n",
      "Try using .loc[row_indexer,col_indexer] = value instead\n",
      "\n",
      "See the caveats in the documentation: http://pandas.pydata.org/pandas-docs/stable/indexing.html#indexing-view-versus-copy\n"
     ]
    },
    {
     "name": "stdout",
     "output_type": "stream",
     "text": [
      "Completed  100  taxi_ids out of  6562\n",
      "Completed  200  taxi_ids out of  6562\n",
      "Completed  300  taxi_ids out of  6562\n",
      "Completed  400  taxi_ids out of  6562\n",
      "Completed  500  taxi_ids out of  6562\n",
      "Completed  600  taxi_ids out of  6562\n",
      "Completed  700  taxi_ids out of  6562\n",
      "Completed  800  taxi_ids out of  6562\n",
      "Completed  900  taxi_ids out of  6562\n",
      "Completed  1000  taxi_ids out of  6562\n",
      "Completed  1100  taxi_ids out of  6562\n",
      "Completed  1200  taxi_ids out of  6562\n",
      "Completed  1300  taxi_ids out of  6562\n",
      "Completed  1400  taxi_ids out of  6562\n",
      "Completed  1500  taxi_ids out of  6562\n",
      "Completed  1600  taxi_ids out of  6562\n",
      "Completed  1700  taxi_ids out of  6562\n",
      "Completed  1800  taxi_ids out of  6562\n",
      "Completed  1900  taxi_ids out of  6562\n",
      "Completed  2000  taxi_ids out of  6562\n",
      "Completed  2100  taxi_ids out of  6562\n",
      "Completed  2200  taxi_ids out of  6562\n",
      "Completed  2300  taxi_ids out of  6562\n",
      "Completed  2400  taxi_ids out of  6562\n",
      "Completed  2500  taxi_ids out of  6562\n",
      "Completed  2600  taxi_ids out of  6562\n",
      "Completed  2700  taxi_ids out of  6562\n",
      "Completed  2800  taxi_ids out of  6562\n",
      "Completed  2900  taxi_ids out of  6562\n",
      "Completed  3000  taxi_ids out of  6562\n",
      "Completed  3100  taxi_ids out of  6562\n",
      "Completed  3200  taxi_ids out of  6562\n",
      "Completed  3300  taxi_ids out of  6562\n",
      "Completed  3400  taxi_ids out of  6562\n",
      "Completed  3500  taxi_ids out of  6562\n",
      "Completed  3600  taxi_ids out of  6562\n",
      "Completed  3700  taxi_ids out of  6562\n",
      "Completed  3800  taxi_ids out of  6562\n",
      "Completed  3900  taxi_ids out of  6562\n",
      "Completed  4000  taxi_ids out of  6562\n",
      "Completed  4100  taxi_ids out of  6562\n",
      "Completed  4200  taxi_ids out of  6562\n",
      "Completed  4300  taxi_ids out of  6562\n",
      "Completed  4400  taxi_ids out of  6562\n",
      "Completed  4500  taxi_ids out of  6562\n",
      "Completed  4600  taxi_ids out of  6562\n",
      "Completed  4700  taxi_ids out of  6562\n",
      "Completed  4800  taxi_ids out of  6562\n",
      "Completed  4900  taxi_ids out of  6562\n",
      "Completed  5000  taxi_ids out of  6562\n",
      "Completed  5100  taxi_ids out of  6562\n",
      "Completed  5200  taxi_ids out of  6562\n",
      "Completed  5300  taxi_ids out of  6562\n",
      "Completed  5400  taxi_ids out of  6562\n",
      "Completed  5500  taxi_ids out of  6562\n",
      "Completed  5600  taxi_ids out of  6562\n",
      "Completed  5700  taxi_ids out of  6562\n",
      "Completed  5800  taxi_ids out of  6562\n",
      "Completed  5900  taxi_ids out of  6562\n",
      "Completed  6000  taxi_ids out of  6562\n",
      "Completed  6100  taxi_ids out of  6562\n",
      "Completed  6200  taxi_ids out of  6562\n",
      "Completed  6300  taxi_ids out of  6562\n",
      "Completed  6400  taxi_ids out of  6562\n",
      "Completed  6500  taxi_ids out of  6562\n"
     ]
    }
   ],
   "source": [
    "labeled = label_trajectories(relevant_df)"
   ]
  },
  {
   "cell_type": "code",
   "execution_count": 72,
   "metadata": {},
   "outputs": [],
   "source": [
    "labeled.to_csv('labeled-routes-all.csv', encoding='utf-8')"
   ]
  },
  {
   "cell_type": "code",
   "execution_count": 73,
   "metadata": {},
   "outputs": [],
   "source": [
    "labeled_starts = labeled[labeled['route_start'] == True]\n",
    "print(len(labeled_starts))"
   ]
  },
  {
   "cell_type": "code",
   "execution_count": 36,
   "metadata": {},
   "outputs": [
    {
     "data": {
      "text/html": [
       "<div>\n",
       "<style scoped>\n",
       "    .dataframe tbody tr th:only-of-type {\n",
       "        vertical-align: middle;\n",
       "    }\n",
       "\n",
       "    .dataframe tbody tr th {\n",
       "        vertical-align: top;\n",
       "    }\n",
       "\n",
       "    .dataframe thead th {\n",
       "        text-align: right;\n",
       "    }\n",
       "</style>\n",
       "<table border=\"1\" class=\"dataframe\">\n",
       "  <thead>\n",
       "    <tr style=\"text-align: right;\">\n",
       "      <th></th>\n",
       "      <th>taxi_id</th>\n",
       "      <th>longitude</th>\n",
       "      <th>latitude</th>\n",
       "      <th>time</th>\n",
       "      <th>occupancy_status</th>\n",
       "      <th>route_number</th>\n",
       "      <th>route_start</th>\n",
       "      <th>route_end</th>\n",
       "    </tr>\n",
       "  </thead>\n",
       "  <tbody>\n",
       "    <tr>\n",
       "      <th>891941</th>\n",
       "      <td>c2Zcv7WkrQY=</td>\n",
       "      <td>114.091850</td>\n",
       "      <td>22.541468</td>\n",
       "      <td>2016-06-13 00:27:06</td>\n",
       "      <td>1</td>\n",
       "      <td>1</td>\n",
       "      <td>True</td>\n",
       "      <td>False</td>\n",
       "    </tr>\n",
       "    <tr>\n",
       "      <th>3376003</th>\n",
       "      <td>c2Zcv7WkrQY=</td>\n",
       "      <td>114.056953</td>\n",
       "      <td>22.527500</td>\n",
       "      <td>2016-06-13 01:23:18</td>\n",
       "      <td>1</td>\n",
       "      <td>2</td>\n",
       "      <td>True</td>\n",
       "      <td>False</td>\n",
       "    </tr>\n",
       "    <tr>\n",
       "      <th>3780670</th>\n",
       "      <td>c2Zcv7WkrQY=</td>\n",
       "      <td>114.041817</td>\n",
       "      <td>22.526150</td>\n",
       "      <td>2016-06-13 01:32:05</td>\n",
       "      <td>1</td>\n",
       "      <td>3</td>\n",
       "      <td>True</td>\n",
       "      <td>False</td>\n",
       "    </tr>\n",
       "    <tr>\n",
       "      <th>8088309</th>\n",
       "      <td>c2Zcv7WkrQY=</td>\n",
       "      <td>114.158966</td>\n",
       "      <td>22.611967</td>\n",
       "      <td>2016-06-13 03:10:29</td>\n",
       "      <td>1</td>\n",
       "      <td>4</td>\n",
       "      <td>True</td>\n",
       "      <td>False</td>\n",
       "    </tr>\n",
       "    <tr>\n",
       "      <th>9805828</th>\n",
       "      <td>c2Zcv7WkrQY=</td>\n",
       "      <td>114.158966</td>\n",
       "      <td>22.611799</td>\n",
       "      <td>2016-06-13 03:49:09</td>\n",
       "      <td>1</td>\n",
       "      <td>5</td>\n",
       "      <td>True</td>\n",
       "      <td>False</td>\n",
       "    </tr>\n",
       "  </tbody>\n",
       "</table>\n",
       "</div>"
      ],
      "text/plain": [
       "              taxi_id   longitude   latitude                time  \\\n",
       "891941   c2Zcv7WkrQY=  114.091850  22.541468 2016-06-13 00:27:06   \n",
       "3376003  c2Zcv7WkrQY=  114.056953  22.527500 2016-06-13 01:23:18   \n",
       "3780670  c2Zcv7WkrQY=  114.041817  22.526150 2016-06-13 01:32:05   \n",
       "8088309  c2Zcv7WkrQY=  114.158966  22.611967 2016-06-13 03:10:29   \n",
       "9805828  c2Zcv7WkrQY=  114.158966  22.611799 2016-06-13 03:49:09   \n",
       "\n",
       "         occupancy_status  route_number  route_start  route_end  \n",
       "891941                  1             1         True      False  \n",
       "3376003                 1             2         True      False  \n",
       "3780670                 1             3         True      False  \n",
       "8088309                 1             4         True      False  \n",
       "9805828                 1             5         True      False  "
      ]
     },
     "execution_count": 36,
     "metadata": {},
     "output_type": "execute_result"
    }
   ],
   "source": [
    "labeled_starts.head()"
   ]
  },
  {
   "cell_type": "code",
   "execution_count": 75,
   "metadata": {},
   "outputs": [],
   "source": [
    "labeled_ends = labeled[labeled['route_end'] == True]\n",
    "print(len(labeled_ends))"
   ]
  },
  {
   "cell_type": "code",
   "execution_count": 38,
   "metadata": {},
   "outputs": [
    {
     "data": {
      "text/html": [
       "<div>\n",
       "<style scoped>\n",
       "    .dataframe tbody tr th:only-of-type {\n",
       "        vertical-align: middle;\n",
       "    }\n",
       "\n",
       "    .dataframe tbody tr th {\n",
       "        vertical-align: top;\n",
       "    }\n",
       "\n",
       "    .dataframe thead th {\n",
       "        text-align: right;\n",
       "    }\n",
       "</style>\n",
       "<table border=\"1\" class=\"dataframe\">\n",
       "  <thead>\n",
       "    <tr style=\"text-align: right;\">\n",
       "      <th></th>\n",
       "      <th>taxi_id</th>\n",
       "      <th>longitude</th>\n",
       "      <th>latitude</th>\n",
       "      <th>time</th>\n",
       "      <th>occupancy_status</th>\n",
       "      <th>route_number</th>\n",
       "      <th>route_start</th>\n",
       "      <th>route_end</th>\n",
       "    </tr>\n",
       "  </thead>\n",
       "  <tbody>\n",
       "    <tr>\n",
       "      <th>1726865</th>\n",
       "      <td>c2Zcv7WkrQY=</td>\n",
       "      <td>114.026535</td>\n",
       "      <td>22.561750</td>\n",
       "      <td>2016-06-13 00:45:06</td>\n",
       "      <td>0</td>\n",
       "      <td>1</td>\n",
       "      <td>False</td>\n",
       "      <td>True</td>\n",
       "    </tr>\n",
       "    <tr>\n",
       "      <th>3621426</th>\n",
       "      <td>c2Zcv7WkrQY=</td>\n",
       "      <td>114.042213</td>\n",
       "      <td>22.524767</td>\n",
       "      <td>2016-06-13 01:28:32</td>\n",
       "      <td>0</td>\n",
       "      <td>2</td>\n",
       "      <td>False</td>\n",
       "      <td>True</td>\n",
       "    </tr>\n",
       "    <tr>\n",
       "      <th>5663430</th>\n",
       "      <td>c2Zcv7WkrQY=</td>\n",
       "      <td>114.139297</td>\n",
       "      <td>22.692650</td>\n",
       "      <td>2016-06-13 02:14:55</td>\n",
       "      <td>0</td>\n",
       "      <td>3</td>\n",
       "      <td>False</td>\n",
       "      <td>True</td>\n",
       "    </tr>\n",
       "    <tr>\n",
       "      <th>8630171</th>\n",
       "      <td>c2Zcv7WkrQY=</td>\n",
       "      <td>114.155052</td>\n",
       "      <td>22.652184</td>\n",
       "      <td>2016-06-13 03:22:42</td>\n",
       "      <td>0</td>\n",
       "      <td>4</td>\n",
       "      <td>False</td>\n",
       "      <td>True</td>\n",
       "    </tr>\n",
       "    <tr>\n",
       "      <th>10745950</th>\n",
       "      <td>c2Zcv7WkrQY=</td>\n",
       "      <td>114.119186</td>\n",
       "      <td>22.543934</td>\n",
       "      <td>2016-06-13 04:11:09</td>\n",
       "      <td>0</td>\n",
       "      <td>5</td>\n",
       "      <td>False</td>\n",
       "      <td>True</td>\n",
       "    </tr>\n",
       "  </tbody>\n",
       "</table>\n",
       "</div>"
      ],
      "text/plain": [
       "               taxi_id   longitude   latitude                time  \\\n",
       "1726865   c2Zcv7WkrQY=  114.026535  22.561750 2016-06-13 00:45:06   \n",
       "3621426   c2Zcv7WkrQY=  114.042213  22.524767 2016-06-13 01:28:32   \n",
       "5663430   c2Zcv7WkrQY=  114.139297  22.692650 2016-06-13 02:14:55   \n",
       "8630171   c2Zcv7WkrQY=  114.155052  22.652184 2016-06-13 03:22:42   \n",
       "10745950  c2Zcv7WkrQY=  114.119186  22.543934 2016-06-13 04:11:09   \n",
       "\n",
       "          occupancy_status  route_number  route_start  route_end  \n",
       "1726865                  0             1        False       True  \n",
       "3621426                  0             2        False       True  \n",
       "5663430                  0             3        False       True  \n",
       "8630171                  0             4        False       True  \n",
       "10745950                 0             5        False       True  "
      ]
     },
     "execution_count": 38,
     "metadata": {},
     "output_type": "execute_result"
    }
   ],
   "source": [
    "labeled_ends.head()"
   ]
  },
  {
   "cell_type": "code",
   "execution_count": 77,
   "metadata": {},
   "outputs": [
    {
     "name": "stdout",
     "output_type": "stream",
     "text": [
      "There are  3656  taxi ids in this dataset!\n",
      "There are  17272  GPS readings near the latitude of the airport\n",
      "There are  4716  GPS readings near the airport!\n",
      "There are  2346  taxi ids near the airport!\n",
      "4716\n"
     ]
    }
   ],
   "source": [
    "air_starts = filter_data_by_gps(labeled_starts, with_pass=False)\n",
    "print(len(air_starts))"
   ]
  },
  {
   "cell_type": "code",
   "execution_count": 57,
   "metadata": {},
   "outputs": [
    {
     "data": {
      "text/html": [
       "<div>\n",
       "<style scoped>\n",
       "    .dataframe tbody tr th:only-of-type {\n",
       "        vertical-align: middle;\n",
       "    }\n",
       "\n",
       "    .dataframe tbody tr th {\n",
       "        vertical-align: top;\n",
       "    }\n",
       "\n",
       "    .dataframe thead th {\n",
       "        text-align: right;\n",
       "    }\n",
       "</style>\n",
       "<table border=\"1\" class=\"dataframe\">\n",
       "  <thead>\n",
       "    <tr style=\"text-align: right;\">\n",
       "      <th></th>\n",
       "      <th>taxi_id</th>\n",
       "      <th>longitude</th>\n",
       "      <th>latitude</th>\n",
       "      <th>time</th>\n",
       "      <th>occupancy_status</th>\n",
       "      <th>route_number</th>\n",
       "      <th>route_start</th>\n",
       "      <th>route_end</th>\n",
       "    </tr>\n",
       "  </thead>\n",
       "  <tbody>\n",
       "    <tr>\n",
       "      <th>23647507</th>\n",
       "      <td>c2Zcv7WkrQY=</td>\n",
       "      <td>113.809937</td>\n",
       "      <td>22.626568</td>\n",
       "      <td>2016-06-13 08:52:51</td>\n",
       "      <td>1</td>\n",
       "      <td>9</td>\n",
       "      <td>True</td>\n",
       "      <td>False</td>\n",
       "    </tr>\n",
       "    <tr>\n",
       "      <th>30431632</th>\n",
       "      <td>dLZ1aGYxi9I=</td>\n",
       "      <td>113.809799</td>\n",
       "      <td>22.626966</td>\n",
       "      <td>2016-06-13 11:30:02</td>\n",
       "      <td>1</td>\n",
       "      <td>54</td>\n",
       "      <td>True</td>\n",
       "      <td>False</td>\n",
       "    </tr>\n",
       "    <tr>\n",
       "      <th>505172</th>\n",
       "      <td>o3Aq6hjujQw=</td>\n",
       "      <td>113.809883</td>\n",
       "      <td>22.626667</td>\n",
       "      <td>2016-06-13 00:19:13</td>\n",
       "      <td>1</td>\n",
       "      <td>86</td>\n",
       "      <td>True</td>\n",
       "      <td>False</td>\n",
       "    </tr>\n",
       "    <tr>\n",
       "      <th>980734</th>\n",
       "      <td>IOJgX8YNDQI=</td>\n",
       "      <td>113.809814</td>\n",
       "      <td>22.626984</td>\n",
       "      <td>2016-06-13 00:29:04</td>\n",
       "      <td>1</td>\n",
       "      <td>147</td>\n",
       "      <td>True</td>\n",
       "      <td>False</td>\n",
       "    </tr>\n",
       "    <tr>\n",
       "      <th>7063945</th>\n",
       "      <td>OHB5fsrJRqo=</td>\n",
       "      <td>113.806847</td>\n",
       "      <td>22.623600</td>\n",
       "      <td>2016-06-13 02:47:04</td>\n",
       "      <td>1</td>\n",
       "      <td>202</td>\n",
       "      <td>True</td>\n",
       "      <td>False</td>\n",
       "    </tr>\n",
       "    <tr>\n",
       "      <th>61011948</th>\n",
       "      <td>OHB5fsrJRqo=</td>\n",
       "      <td>113.825569</td>\n",
       "      <td>22.615067</td>\n",
       "      <td>2016-06-13 22:06:19</td>\n",
       "      <td>1</td>\n",
       "      <td>228</td>\n",
       "      <td>True</td>\n",
       "      <td>False</td>\n",
       "    </tr>\n",
       "    <tr>\n",
       "      <th>26889872</th>\n",
       "      <td>7/2ApaP1AeU=</td>\n",
       "      <td>113.809731</td>\n",
       "      <td>22.627001</td>\n",
       "      <td>2016-06-13 10:12:58</td>\n",
       "      <td>1</td>\n",
       "      <td>248</td>\n",
       "      <td>True</td>\n",
       "      <td>False</td>\n",
       "    </tr>\n",
       "    <tr>\n",
       "      <th>30541077</th>\n",
       "      <td>4jOr+3IoFCM=</td>\n",
       "      <td>113.809700</td>\n",
       "      <td>22.627016</td>\n",
       "      <td>2016-06-13 11:32:57</td>\n",
       "      <td>1</td>\n",
       "      <td>293</td>\n",
       "      <td>True</td>\n",
       "      <td>False</td>\n",
       "    </tr>\n",
       "    <tr>\n",
       "      <th>42434439</th>\n",
       "      <td>4jOr+3IoFCM=</td>\n",
       "      <td>113.809814</td>\n",
       "      <td>22.626833</td>\n",
       "      <td>2016-06-13 15:33:02</td>\n",
       "      <td>1</td>\n",
       "      <td>302</td>\n",
       "      <td>True</td>\n",
       "      <td>False</td>\n",
       "    </tr>\n",
       "    <tr>\n",
       "      <th>60392773</th>\n",
       "      <td>iDsgaj4cyhQ=</td>\n",
       "      <td>113.807297</td>\n",
       "      <td>22.624367</td>\n",
       "      <td>2016-06-13 21:49:55</td>\n",
       "      <td>1</td>\n",
       "      <td>386</td>\n",
       "      <td>True</td>\n",
       "      <td>False</td>\n",
       "    </tr>\n",
       "    <tr>\n",
       "      <th>31261540</th>\n",
       "      <td>idWbwUg3HPw=</td>\n",
       "      <td>113.810066</td>\n",
       "      <td>22.626432</td>\n",
       "      <td>2016-06-13 11:48:46</td>\n",
       "      <td>1</td>\n",
       "      <td>406</td>\n",
       "      <td>True</td>\n",
       "      <td>False</td>\n",
       "    </tr>\n",
       "  </tbody>\n",
       "</table>\n",
       "</div>"
      ],
      "text/plain": [
       "               taxi_id   longitude   latitude                time  \\\n",
       "23647507  c2Zcv7WkrQY=  113.809937  22.626568 2016-06-13 08:52:51   \n",
       "30431632  dLZ1aGYxi9I=  113.809799  22.626966 2016-06-13 11:30:02   \n",
       "505172    o3Aq6hjujQw=  113.809883  22.626667 2016-06-13 00:19:13   \n",
       "980734    IOJgX8YNDQI=  113.809814  22.626984 2016-06-13 00:29:04   \n",
       "7063945   OHB5fsrJRqo=  113.806847  22.623600 2016-06-13 02:47:04   \n",
       "61011948  OHB5fsrJRqo=  113.825569  22.615067 2016-06-13 22:06:19   \n",
       "26889872  7/2ApaP1AeU=  113.809731  22.627001 2016-06-13 10:12:58   \n",
       "30541077  4jOr+3IoFCM=  113.809700  22.627016 2016-06-13 11:32:57   \n",
       "42434439  4jOr+3IoFCM=  113.809814  22.626833 2016-06-13 15:33:02   \n",
       "60392773  iDsgaj4cyhQ=  113.807297  22.624367 2016-06-13 21:49:55   \n",
       "31261540  idWbwUg3HPw=  113.810066  22.626432 2016-06-13 11:48:46   \n",
       "\n",
       "          occupancy_status  route_number  route_start  route_end  \n",
       "23647507                 1             9         True      False  \n",
       "30431632                 1            54         True      False  \n",
       "505172                   1            86         True      False  \n",
       "980734                   1           147         True      False  \n",
       "7063945                  1           202         True      False  \n",
       "61011948                 1           228         True      False  \n",
       "26889872                 1           248         True      False  \n",
       "30541077                 1           293         True      False  \n",
       "42434439                 1           302         True      False  \n",
       "60392773                 1           386         True      False  \n",
       "31261540                 1           406         True      False  "
      ]
     },
     "execution_count": 57,
     "metadata": {},
     "output_type": "execute_result"
    }
   ],
   "source": [
    "good_starts.head(11)"
   ]
  },
  {
   "cell_type": "code",
   "execution_count": 12,
   "metadata": {},
   "outputs": [],
   "source": [
    "def filter_data_by_train_gps(df, with_pass=False):\n",
    "    # Train Station in Shenzhen is 22.605502, 114.023724 and 22.613580, 114.034568.\n",
    "    all_taxi_ids = df['taxi_id'].unique()\n",
    "    print('There are ', len(all_taxi_ids), ' taxi ids in this dataset!')\n",
    "\n",
    "    near_lat = df[(df['latitude'] >= 22.605502) & (df['latitude'] <= 22.613580)]\n",
    "    print('There are ', len(near_lat), ' GPS readings near the latitude of the airport')\n",
    "\n",
    "    near_airport = near_lat[(near_lat['longitude'] >= 114.023724) & (near_lat['longitude'] <= 114.034568)]\n",
    "\n",
    "    print('There are ', len(near_airport), ' GPS readings near the airport!')\n",
    "    taxi_ids = near_airport['taxi_id'].unique()\n",
    "    print('There are ', len(taxi_ids), ' taxi ids near the airport!')\n",
    "\n",
    "    if with_pass:\n",
    "        with_pass = near_airport[near_airport['occupancy_status'] == 1]\n",
    "        print('There are ', len(with_pass), ' GPS readings near the airport with a passenger!')\n",
    "        with_pass_ids = with_pass['taxi_id'].unique()\n",
    "        print('There are ', len(with_pass_ids), ' taxi ids near the airport with a passenger!')\n",
    "        return with_pass\n",
    "    else:\n",
    "        return near_airport"
   ]
  },
  {
   "cell_type": "code",
   "execution_count": 78,
   "metadata": {},
   "outputs": [
    {
     "name": "stdout",
     "output_type": "stream",
     "text": [
      "There are  3589  taxi ids in this dataset!\n",
      "There are  5847  GPS readings near the latitude of the airport\n",
      "There are  1691  GPS readings near the airport!\n",
      "There are  766  taxi ids near the airport!\n",
      "1691\n"
     ]
    }
   ],
   "source": [
    "train_ends = filter_data_by_train_gps(labeled_ends)\n",
    "print(len(train_ends))"
   ]
  },
  {
   "cell_type": "code",
   "execution_count": 79,
   "metadata": {},
   "outputs": [],
   "source": [
    "route_end_numbers = train_ends['route_number'].unique()\n",
    "route_start_numbers = air_starts['route_number'].unique()"
   ]
  },
  {
   "cell_type": "code",
   "execution_count": 80,
   "metadata": {},
   "outputs": [
    {
     "name": "stdout",
     "output_type": "stream",
     "text": [
      "11\n"
     ]
    }
   ],
   "source": [
    "air_to_train = list(set(route_start_numbers) & set(route_end_numbers))\n",
    "print(len(air_to_train))"
   ]
  },
  {
   "cell_type": "code",
   "execution_count": 81,
   "metadata": {},
   "outputs": [
    {
     "name": "stdout",
     "output_type": "stream",
     "text": [
      "There are  3656  taxi ids in this dataset!\n",
      "There are  5885  GPS readings near the latitude of the airport\n",
      "There are  1438  GPS readings near the airport!\n",
      "There are  701  taxi ids near the airport!\n",
      "There are  3589  taxi ids in this dataset!\n",
      "There are  14641  GPS readings near the latitude of the airport\n",
      "There are  4854  GPS readings near the airport!\n",
      "There are  1738  taxi ids near the airport!\n",
      "1438\n",
      "4854\n"
     ]
    }
   ],
   "source": [
    "train_starts = filter_data_by_train_gps(labeled_starts)\n",
    "air_ends = filter_data_by_gps(labeled_ends, with_pass=False)\n",
    "\n",
    "print(len(train_starts))\n",
    "print(len(air_ends))"
   ]
  },
  {
   "cell_type": "code",
   "execution_count": 82,
   "metadata": {},
   "outputs": [
    {
     "name": "stdout",
     "output_type": "stream",
     "text": [
      "40\n"
     ]
    }
   ],
   "source": [
    "air_end_numbers = air_ends['route_number'].unique()\n",
    "train_start_numbers = train_starts['route_number'].unique()\n",
    "\n",
    "train_to_air = list(set(air_end_numbers) & set(train_start_numbers))\n",
    "print(len(train_to_air))"
   ]
  },
  {
   "cell_type": "code",
   "execution_count": 86,
   "metadata": {},
   "outputs": [],
   "source": [
    "with open('airport_to_train_route_numbers.txt', 'w') as f:\n",
    "    for route_number in air_to_train:\n",
    "        f.write(\"%s\\n\" % route_number)"
   ]
  },
  {
   "cell_type": "code",
   "execution_count": 87,
   "metadata": {},
   "outputs": [],
   "source": [
    "with open('train_to_airport_route_numbers.txt', 'w') as f:\n",
    "    for route_number in train_to_air:\n",
    "        f.write(\"%s\\n\" % route_number)"
   ]
  },
  {
   "cell_type": "code",
   "execution_count": 108,
   "metadata": {},
   "outputs": [],
   "source": [
    "weird = labeled[labeled['route_number'] == 11923]"
   ]
  },
  {
   "cell_type": "code",
   "execution_count": 109,
   "metadata": {},
   "outputs": [
    {
     "data": {
      "text/html": [
       "<div>\n",
       "<style scoped>\n",
       "    .dataframe tbody tr th:only-of-type {\n",
       "        vertical-align: middle;\n",
       "    }\n",
       "\n",
       "    .dataframe tbody tr th {\n",
       "        vertical-align: top;\n",
       "    }\n",
       "\n",
       "    .dataframe thead th {\n",
       "        text-align: right;\n",
       "    }\n",
       "</style>\n",
       "<table border=\"1\" class=\"dataframe\">\n",
       "  <thead>\n",
       "    <tr style=\"text-align: right;\">\n",
       "      <th></th>\n",
       "      <th>taxi_id</th>\n",
       "      <th>longitude</th>\n",
       "      <th>latitude</th>\n",
       "      <th>time</th>\n",
       "      <th>occupancy_status</th>\n",
       "      <th>route_number</th>\n",
       "      <th>route_start</th>\n",
       "      <th>route_end</th>\n",
       "    </tr>\n",
       "  </thead>\n",
       "  <tbody>\n",
       "    <tr>\n",
       "      <th>55187187</th>\n",
       "      <td>DoTteigbAlw=</td>\n",
       "      <td>114.027298</td>\n",
       "      <td>22.612900</td>\n",
       "      <td>2016-06-13 20:11:57</td>\n",
       "      <td>1</td>\n",
       "      <td>11923</td>\n",
       "      <td>True</td>\n",
       "      <td>False</td>\n",
       "    </tr>\n",
       "    <tr>\n",
       "      <th>55214535</th>\n",
       "      <td>DoTteigbAlw=</td>\n",
       "      <td>114.026299</td>\n",
       "      <td>22.610701</td>\n",
       "      <td>2016-06-13 20:12:18</td>\n",
       "      <td>1</td>\n",
       "      <td>11923</td>\n",
       "      <td>False</td>\n",
       "      <td>False</td>\n",
       "    </tr>\n",
       "    <tr>\n",
       "      <th>55224090</th>\n",
       "      <td>DoTteigbAlw=</td>\n",
       "      <td>114.023903</td>\n",
       "      <td>22.609200</td>\n",
       "      <td>2016-06-13 20:12:38</td>\n",
       "      <td>1</td>\n",
       "      <td>11923</td>\n",
       "      <td>False</td>\n",
       "      <td>False</td>\n",
       "    </tr>\n",
       "    <tr>\n",
       "      <th>55001156</th>\n",
       "      <td>DoTteigbAlw=</td>\n",
       "      <td>113.812798</td>\n",
       "      <td>22.623100</td>\n",
       "      <td>2016-06-13 20:12:46</td>\n",
       "      <td>0</td>\n",
       "      <td>11923</td>\n",
       "      <td>False</td>\n",
       "      <td>True</td>\n",
       "    </tr>\n",
       "  </tbody>\n",
       "</table>\n",
       "</div>"
      ],
      "text/plain": [
       "               taxi_id   longitude   latitude                time  \\\n",
       "55187187  DoTteigbAlw=  114.027298  22.612900 2016-06-13 20:11:57   \n",
       "55214535  DoTteigbAlw=  114.026299  22.610701 2016-06-13 20:12:18   \n",
       "55224090  DoTteigbAlw=  114.023903  22.609200 2016-06-13 20:12:38   \n",
       "55001156  DoTteigbAlw=  113.812798  22.623100 2016-06-13 20:12:46   \n",
       "\n",
       "          occupancy_status  route_number  route_start  route_end  \n",
       "55187187                 1         11923         True      False  \n",
       "55214535                 1         11923        False      False  \n",
       "55224090                 1         11923        False      False  \n",
       "55001156                 0         11923        False       True  "
      ]
     },
     "execution_count": 109,
     "metadata": {},
     "output_type": "execute_result"
    }
   ],
   "source": [
    "weird.head()"
   ]
  },
  {
   "cell_type": "code",
   "execution_count": null,
   "metadata": {},
   "outputs": [],
   "source": []
  },
  {
   "cell_type": "code",
   "execution_count": null,
   "metadata": {},
   "outputs": [],
   "source": []
  },
  {
   "cell_type": "code",
   "execution_count": null,
   "metadata": {},
   "outputs": [],
   "source": []
  },
  {
   "cell_type": "code",
   "execution_count": null,
   "metadata": {},
   "outputs": [],
   "source": []
  },
  {
   "cell_type": "code",
   "execution_count": null,
   "metadata": {},
   "outputs": [],
   "source": []
  },
  {
   "cell_type": "code",
   "execution_count": null,
   "metadata": {},
   "outputs": [],
   "source": []
  },
  {
   "cell_type": "code",
   "execution_count": 4,
   "metadata": {},
   "outputs": [],
   "source": [
    "base_path = os.getcwd()\n",
    "full_path = base_path + '/' + 'labeled-routes-all.csv'\n",
    "\n",
    "my_df = pd.read_csv(full_path)"
   ]
  },
  {
   "cell_type": "code",
   "execution_count": 5,
   "metadata": {},
   "outputs": [
    {
     "data": {
      "text/html": [
       "<div>\n",
       "<style scoped>\n",
       "    .dataframe tbody tr th:only-of-type {\n",
       "        vertical-align: middle;\n",
       "    }\n",
       "\n",
       "    .dataframe tbody tr th {\n",
       "        vertical-align: top;\n",
       "    }\n",
       "\n",
       "    .dataframe thead th {\n",
       "        text-align: right;\n",
       "    }\n",
       "</style>\n",
       "<table border=\"1\" class=\"dataframe\">\n",
       "  <thead>\n",
       "    <tr style=\"text-align: right;\">\n",
       "      <th></th>\n",
       "      <th>Unnamed: 0</th>\n",
       "      <th>taxi_id</th>\n",
       "      <th>longitude</th>\n",
       "      <th>latitude</th>\n",
       "      <th>time</th>\n",
       "      <th>occupancy_status</th>\n",
       "      <th>route_number</th>\n",
       "      <th>route_start</th>\n",
       "      <th>route_end</th>\n",
       "    </tr>\n",
       "  </thead>\n",
       "  <tbody>\n",
       "    <tr>\n",
       "      <th>0</th>\n",
       "      <td>0</td>\n",
       "      <td>c2Zcv7WkrQY=</td>\n",
       "      <td>114.09185</td>\n",
       "      <td>22.541468</td>\n",
       "      <td>2016-06-13 00:08:51</td>\n",
       "      <td>0</td>\n",
       "      <td>-1</td>\n",
       "      <td>False</td>\n",
       "      <td>False</td>\n",
       "    </tr>\n",
       "    <tr>\n",
       "      <th>1</th>\n",
       "      <td>15975</td>\n",
       "      <td>c2Zcv7WkrQY=</td>\n",
       "      <td>114.09185</td>\n",
       "      <td>22.541468</td>\n",
       "      <td>2016-06-13 00:09:11</td>\n",
       "      <td>0</td>\n",
       "      <td>-1</td>\n",
       "      <td>False</td>\n",
       "      <td>False</td>\n",
       "    </tr>\n",
       "    <tr>\n",
       "      <th>2</th>\n",
       "      <td>33494</td>\n",
       "      <td>c2Zcv7WkrQY=</td>\n",
       "      <td>114.09185</td>\n",
       "      <td>22.541468</td>\n",
       "      <td>2016-06-13 00:09:31</td>\n",
       "      <td>0</td>\n",
       "      <td>-1</td>\n",
       "      <td>False</td>\n",
       "      <td>False</td>\n",
       "    </tr>\n",
       "    <tr>\n",
       "      <th>3</th>\n",
       "      <td>49109</td>\n",
       "      <td>c2Zcv7WkrQY=</td>\n",
       "      <td>114.09185</td>\n",
       "      <td>22.541468</td>\n",
       "      <td>2016-06-13 00:09:51</td>\n",
       "      <td>0</td>\n",
       "      <td>-1</td>\n",
       "      <td>False</td>\n",
       "      <td>False</td>\n",
       "    </tr>\n",
       "    <tr>\n",
       "      <th>4</th>\n",
       "      <td>66824</td>\n",
       "      <td>c2Zcv7WkrQY=</td>\n",
       "      <td>114.09185</td>\n",
       "      <td>22.541468</td>\n",
       "      <td>2016-06-13 00:10:11</td>\n",
       "      <td>0</td>\n",
       "      <td>-1</td>\n",
       "      <td>False</td>\n",
       "      <td>False</td>\n",
       "    </tr>\n",
       "  </tbody>\n",
       "</table>\n",
       "</div>"
      ],
      "text/plain": [
       "   Unnamed: 0       taxi_id  longitude   latitude                 time  \\\n",
       "0           0  c2Zcv7WkrQY=  114.09185  22.541468  2016-06-13 00:08:51   \n",
       "1       15975  c2Zcv7WkrQY=  114.09185  22.541468  2016-06-13 00:09:11   \n",
       "2       33494  c2Zcv7WkrQY=  114.09185  22.541468  2016-06-13 00:09:31   \n",
       "3       49109  c2Zcv7WkrQY=  114.09185  22.541468  2016-06-13 00:09:51   \n",
       "4       66824  c2Zcv7WkrQY=  114.09185  22.541468  2016-06-13 00:10:11   \n",
       "\n",
       "   occupancy_status  route_number  route_start  route_end  \n",
       "0                 0            -1        False      False  \n",
       "1                 0            -1        False      False  \n",
       "2                 0            -1        False      False  \n",
       "3                 0            -1        False      False  \n",
       "4                 0            -1        False      False  "
      ]
     },
     "execution_count": 5,
     "metadata": {},
     "output_type": "execute_result"
    }
   ],
   "source": [
    "my_df.head()"
   ]
  },
  {
   "cell_type": "code",
   "execution_count": 6,
   "metadata": {},
   "outputs": [
    {
     "data": {
      "text/html": [
       "<div>\n",
       "<style scoped>\n",
       "    .dataframe tbody tr th:only-of-type {\n",
       "        vertical-align: middle;\n",
       "    }\n",
       "\n",
       "    .dataframe tbody tr th {\n",
       "        vertical-align: top;\n",
       "    }\n",
       "\n",
       "    .dataframe thead th {\n",
       "        text-align: right;\n",
       "    }\n",
       "</style>\n",
       "<table border=\"1\" class=\"dataframe\">\n",
       "  <thead>\n",
       "    <tr style=\"text-align: right;\">\n",
       "      <th></th>\n",
       "      <th>Unnamed: 0</th>\n",
       "      <th>longitude</th>\n",
       "      <th>latitude</th>\n",
       "      <th>occupancy_status</th>\n",
       "      <th>route_number</th>\n",
       "    </tr>\n",
       "  </thead>\n",
       "  <tbody>\n",
       "    <tr>\n",
       "      <th>count</th>\n",
       "      <td>2.291153e+07</td>\n",
       "      <td>2.291153e+07</td>\n",
       "      <td>2.291153e+07</td>\n",
       "      <td>2.291153e+07</td>\n",
       "      <td>2.291153e+07</td>\n",
       "    </tr>\n",
       "    <tr>\n",
       "      <th>mean</th>\n",
       "      <td>3.282886e+07</td>\n",
       "      <td>1.139897e+02</td>\n",
       "      <td>2.258785e+01</td>\n",
       "      <td>2.700111e-01</td>\n",
       "      <td>1.972721e+04</td>\n",
       "    </tr>\n",
       "    <tr>\n",
       "      <th>std</th>\n",
       "      <td>1.928442e+07</td>\n",
       "      <td>1.289750e+00</td>\n",
       "      <td>1.707699e-01</td>\n",
       "      <td>4.439652e-01</td>\n",
       "      <td>4.036508e+04</td>\n",
       "    </tr>\n",
       "    <tr>\n",
       "      <th>min</th>\n",
       "      <td>0.000000e+00</td>\n",
       "      <td>1.000000e+02</td>\n",
       "      <td>2.262800e+00</td>\n",
       "      <td>0.000000e+00</td>\n",
       "      <td>-1.000000e+00</td>\n",
       "    </tr>\n",
       "    <tr>\n",
       "      <th>25%</th>\n",
       "      <td>1.601873e+07</td>\n",
       "      <td>1.138967e+02</td>\n",
       "      <td>2.253968e+01</td>\n",
       "      <td>0.000000e+00</td>\n",
       "      <td>-1.000000e+00</td>\n",
       "    </tr>\n",
       "    <tr>\n",
       "      <th>50%</th>\n",
       "      <td>3.236977e+07</td>\n",
       "      <td>1.140225e+02</td>\n",
       "      <td>2.256620e+01</td>\n",
       "      <td>0.000000e+00</td>\n",
       "      <td>-1.000000e+00</td>\n",
       "    </tr>\n",
       "    <tr>\n",
       "      <th>75%</th>\n",
       "      <td>4.932944e+07</td>\n",
       "      <td>1.140733e+02</td>\n",
       "      <td>2.261940e+01</td>\n",
       "      <td>1.000000e+00</td>\n",
       "      <td>1.388500e+04</td>\n",
       "    </tr>\n",
       "    <tr>\n",
       "      <th>max</th>\n",
       "      <td>6.693642e+07</td>\n",
       "      <td>9.950200e+02</td>\n",
       "      <td>2.800000e+02</td>\n",
       "      <td>1.000000e+00</td>\n",
       "      <td>1.725920e+05</td>\n",
       "    </tr>\n",
       "  </tbody>\n",
       "</table>\n",
       "</div>"
      ],
      "text/plain": [
       "         Unnamed: 0     longitude      latitude  occupancy_status  \\\n",
       "count  2.291153e+07  2.291153e+07  2.291153e+07      2.291153e+07   \n",
       "mean   3.282886e+07  1.139897e+02  2.258785e+01      2.700111e-01   \n",
       "std    1.928442e+07  1.289750e+00  1.707699e-01      4.439652e-01   \n",
       "min    0.000000e+00  1.000000e+02  2.262800e+00      0.000000e+00   \n",
       "25%    1.601873e+07  1.138967e+02  2.253968e+01      0.000000e+00   \n",
       "50%    3.236977e+07  1.140225e+02  2.256620e+01      0.000000e+00   \n",
       "75%    4.932944e+07  1.140733e+02  2.261940e+01      1.000000e+00   \n",
       "max    6.693642e+07  9.950200e+02  2.800000e+02      1.000000e+00   \n",
       "\n",
       "       route_number  \n",
       "count  2.291153e+07  \n",
       "mean   1.972721e+04  \n",
       "std    4.036508e+04  \n",
       "min   -1.000000e+00  \n",
       "25%   -1.000000e+00  \n",
       "50%   -1.000000e+00  \n",
       "75%    1.388500e+04  \n",
       "max    1.725920e+05  "
      ]
     },
     "execution_count": 6,
     "metadata": {},
     "output_type": "execute_result"
    }
   ],
   "source": [
    "my_df.describe()"
   ]
  },
  {
   "cell_type": "code",
   "execution_count": 8,
   "metadata": {},
   "outputs": [
    {
     "name": "stdout",
     "output_type": "stream",
     "text": [
      "173824\n",
      "172591\n"
     ]
    }
   ],
   "source": [
    "labeled_starts = my_df[my_df['route_start'] == True]\n",
    "print(len(labeled_starts))\n",
    "\n",
    "labeled_ends = my_df[my_df['route_end'] == True]\n",
    "print(len(labeled_ends))"
   ]
  },
  {
   "cell_type": "code",
   "execution_count": 13,
   "metadata": {},
   "outputs": [
    {
     "name": "stdout",
     "output_type": "stream",
     "text": [
      "There are  3656  taxi ids in this dataset!\n",
      "There are  17272  GPS readings near the latitude of the airport\n",
      "There are  4716  GPS readings near the airport!\n",
      "There are  2346  taxi ids near the airport!\n",
      "4716\n",
      "There are  3589  taxi ids in this dataset!\n",
      "There are  5847  GPS readings near the latitude of the airport\n",
      "There are  1691  GPS readings near the airport!\n",
      "There are  766  taxi ids near the airport!\n",
      "1691\n"
     ]
    }
   ],
   "source": [
    "air_starts = filter_data_by_gps(labeled_starts, with_pass=False)\n",
    "print(len(air_starts))\n",
    "\n",
    "train_ends = filter_data_by_train_gps(labeled_ends)\n",
    "print(len(train_ends))"
   ]
  },
  {
   "cell_type": "code",
   "execution_count": 14,
   "metadata": {},
   "outputs": [
    {
     "name": "stdout",
     "output_type": "stream",
     "text": [
      "11\n"
     ]
    }
   ],
   "source": [
    "route_end_numbers = train_ends['route_number'].unique()\n",
    "route_start_numbers = air_starts['route_number'].unique()\n",
    "air_to_train = list(set(route_start_numbers) & set(route_end_numbers))\n",
    "print(len(air_to_train))"
   ]
  },
  {
   "cell_type": "code",
   "execution_count": 15,
   "metadata": {},
   "outputs": [
    {
     "name": "stdout",
     "output_type": "stream",
     "text": [
      "There are  3656  taxi ids in this dataset!\n",
      "There are  5885  GPS readings near the latitude of the airport\n",
      "There are  1438  GPS readings near the airport!\n",
      "There are  701  taxi ids near the airport!\n",
      "There are  3589  taxi ids in this dataset!\n",
      "There are  14641  GPS readings near the latitude of the airport\n",
      "There are  4854  GPS readings near the airport!\n",
      "There are  1738  taxi ids near the airport!\n",
      "1438\n",
      "4854\n"
     ]
    }
   ],
   "source": [
    "train_starts = filter_data_by_train_gps(labeled_starts)\n",
    "air_ends = filter_data_by_gps(labeled_ends, with_pass=False)\n",
    "\n",
    "print(len(train_starts))\n",
    "print(len(air_ends))"
   ]
  },
  {
   "cell_type": "code",
   "execution_count": 16,
   "metadata": {},
   "outputs": [
    {
     "name": "stdout",
     "output_type": "stream",
     "text": [
      "40\n"
     ]
    }
   ],
   "source": [
    "air_end_numbers = air_ends['route_number'].unique()\n",
    "train_start_numbers = train_starts['route_number'].unique()\n",
    "\n",
    "train_to_air = list(set(air_end_numbers) & set(train_start_numbers))\n",
    "print(len(train_to_air))"
   ]
  },
  {
   "cell_type": "code",
   "execution_count": 26,
   "metadata": {},
   "outputs": [],
   "source": [
    "# print(train_to_air)"
   ]
  },
  {
   "cell_type": "code",
   "execution_count": 27,
   "metadata": {},
   "outputs": [],
   "source": [
    "# x = my_df[my_df['route_number'] == 64320]\n",
    "# x.head()\n",
    "# print(len(x))"
   ]
  },
  {
   "cell_type": "code",
   "execution_count": 28,
   "metadata": {},
   "outputs": [],
   "source": [
    "# my_df.head()"
   ]
  },
  {
   "cell_type": "code",
   "execution_count": 29,
   "metadata": {},
   "outputs": [],
   "source": [
    "train_to_air_route_df = my_df[my_df['route_number'].isin(train_to_air)]\n",
    "train_to_air_route_df = train_to_air_route_df.drop(train_to_air_route_df.columns[0], axis=1)\n",
    "train_to_air_route_df.to_csv('new-train-to-air-routes-no-grids.csv', encoding='utf-8')"
   ]
  },
  {
   "cell_type": "code",
   "execution_count": 30,
   "metadata": {},
   "outputs": [],
   "source": [
    "air_to_air_train_df = my_df[my_df['route_number'].isin(air_to_train)]\n",
    "air_to_air_train_df = air_to_air_train_df.drop(air_to_air_train_df.columns[0], axis=1)\n",
    "air_to_air_train_df.to_csv('new-air-to-train-routes-no-grids.csv', encoding='utf-8')"
   ]
  },
  {
   "cell_type": "code",
   "execution_count": null,
   "metadata": {},
   "outputs": [],
   "source": []
  }
 ],
 "metadata": {
  "kernelspec": {
   "display_name": "Python 3",
   "language": "python",
   "name": "python3"
  },
  "language_info": {
   "codemirror_mode": {
    "name": "ipython",
    "version": 3
   },
   "file_extension": ".py",
   "mimetype": "text/x-python",
   "name": "python",
   "nbconvert_exporter": "python",
   "pygments_lexer": "ipython3",
   "version": "3.6.5"
  }
 },
 "nbformat": 4,
 "nbformat_minor": 2
}
