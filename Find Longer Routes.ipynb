{
 "cells": [
  {
   "cell_type": "markdown",
   "metadata": {},
   "source": [
    "import pandas as pd\n",
    "import os"
   ]
  },
  {
   "cell_type": "code",
   "execution_count": 2,
   "metadata": {},
   "outputs": [],
   "source": [
    "def load_csv_as_df(file_name, sub_directories, column_numbers=None, column_names=None):\n",
    "    '''\n",
    "    Load any csv as a pandas dataframe. Provide the filename, the subdirectories, and columns to read(if desired).\n",
    "    '''\n",
    "    base_path = os.getcwd()\n",
    "    full_path = base_path + sub_directories + file_name\n",
    "\n",
    "    if column_numbers is not None:\n",
    "        df = pd.read_csv(full_path, usecols=column_numbers)\n",
    "    else:\n",
    "        df = pd.read_csv(full_path)\n",
    "\n",
    "    if column_names is not None:\n",
    "        df.columns = column_names\n",
    "\n",
    "    return df"
   ]
  },
  {
   "cell_type": "code",
   "execution_count": 3,
   "metadata": {},
   "outputs": [],
   "source": [
    "train_df = load_csv_as_df('all-train-to-air-routes-with-cells.csv', '/')\n",
    "air_df = load_csv_as_df('all-air-to-train-routes-with-cells.csv', '/')"
   ]
  },
  {
   "cell_type": "code",
   "execution_count": 5,
   "metadata": {},
   "outputs": [
    {
     "name": "stdout",
     "output_type": "stream",
     "text": [
      "44\n",
      "26\n"
     ]
    }
   ],
   "source": [
    "train_route_ids = train_df['route_number'].unique()\n",
    "air_route_ids = air_df['route_number'].unique()\n",
    "\n",
    "print(len(train_route_ids))\n",
    "print(len(air_route_ids))"
   ]
  },
  {
   "cell_type": "code",
   "execution_count": 9,
   "metadata": {},
   "outputs": [],
   "source": [
    "def find_routes_with_ten_readings(df, route_numbers, min_num_readings=10):\n",
    "    routes = []\n",
    "    \n",
    "    for number in route_numbers:\n",
    "        route_df = df[df['route_number'] == number]\n",
    "        \n",
    "        if len(route_df) >= min_num_readings:\n",
    "            routes.append(route_df)\n",
    "        else:\n",
    "            print('Route: ', number, ' only has ', len(route_df), ' readings!')\n",
    "    \n",
    "    print('Found ', len(routes), ' routes that have 10+ readings')\n",
    "    \n",
    "    return pd.concat(routes)"
   ]
  },
  {
   "cell_type": "code",
   "execution_count": 10,
   "metadata": {},
   "outputs": [
    {
     "name": "stdout",
     "output_type": "stream",
     "text": [
      "Route:  5191  only has  2  readings!\n",
      "Route:  5195  only has  2  readings!\n",
      "Route:  5196  only has  2  readings!\n",
      "Route:  5197  only has  2  readings!\n",
      "Route:  5198  only has  2  readings!\n",
      "Route:  5199  only has  2  readings!\n",
      "Route:  11923  only has  4  readings!\n",
      "Route:  37118  only has  8  readings!\n",
      "Route:  84726  only has  2  readings!\n",
      "Route:  84727  only has  2  readings!\n",
      "Route:  84728  only has  2  readings!\n",
      "Route:  84729  only has  2  readings!\n",
      "Route:  84730  only has  2  readings!\n",
      "Route:  84731  only has  2  readings!\n",
      "Route:  84740  only has  2  readings!\n",
      "Route:  84741  only has  2  readings!\n",
      "Route:  84742  only has  2  readings!\n",
      "Route:  84743  only has  2  readings!\n",
      "Route:  84744  only has  2  readings!\n",
      "Route:  84745  only has  2  readings!\n",
      "Route:  84746  only has  2  readings!\n",
      "Route:  84747  only has  2  readings!\n",
      "Route:  84748  only has  2  readings!\n",
      "Route:  84749  only has  2  readings!\n",
      "Route:  84750  only has  2  readings!\n",
      "Route:  84751  only has  2  readings!\n",
      "Route:  84754  only has  2  readings!\n",
      "Found  17  routes that have 10+ readings\n"
     ]
    }
   ],
   "source": [
    "sample = find_routes_with_ten_readings(train_df, train_route_ids, min_num_readings=10)"
   ]
  },
  {
   "cell_type": "code",
   "execution_count": 11,
   "metadata": {},
   "outputs": [
    {
     "name": "stdout",
     "output_type": "stream",
     "text": [
      "Route:  46836  only has  2  readings!\n",
      "Route:  46842  only has  5  readings!\n",
      "Route:  46844  only has  2  readings!\n",
      "Route:  122063  only has  2  readings!\n",
      "Route:  384940  only has  3  readings!\n",
      "Found  21  routes that have 10+ readings\n"
     ]
    }
   ],
   "source": [
    "sample2 = find_routes_with_ten_readings(air_df, air_route_ids, min_num_readings=10)"
   ]
  },
  {
   "cell_type": "code",
   "execution_count": null,
   "metadata": {},
   "outputs": [],
   "source": []
  }
 ],
 "metadata": {
  "kernelspec": {
   "display_name": "Python 3",
   "language": "python",
   "name": "python3"
  },
  "language_info": {
   "codemirror_mode": {
    "name": "ipython",
    "version": 3
   },
   "file_extension": ".py",
   "mimetype": "text/x-python",
   "name": "python",
   "nbconvert_exporter": "python",
   "pygments_lexer": "ipython3",
   "version": "3.6.5"
  }
 },
 "nbformat": 4,
 "nbformat_minor": 2
}
